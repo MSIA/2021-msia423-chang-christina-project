{
 "cells": [
  {
   "cell_type": "code",
   "execution_count": 1,
   "id": "317d2f27",
   "metadata": {},
   "outputs": [],
   "source": [
    "import numpy as np\n",
    "import pandas as pd"
   ]
  },
  {
   "cell_type": "code",
   "execution_count": 2,
   "id": "e1db8031",
   "metadata": {},
   "outputs": [
    {
     "data": {
      "text/html": [
       "<div>\n",
       "<style scoped>\n",
       "    .dataframe tbody tr th:only-of-type {\n",
       "        vertical-align: middle;\n",
       "    }\n",
       "\n",
       "    .dataframe tbody tr th {\n",
       "        vertical-align: top;\n",
       "    }\n",
       "\n",
       "    .dataframe thead th {\n",
       "        text-align: right;\n",
       "    }\n",
       "</style>\n",
       "<table border=\"1\" class=\"dataframe\">\n",
       "  <thead>\n",
       "    <tr style=\"text-align: right;\">\n",
       "      <th></th>\n",
       "      <th>trail_id</th>\n",
       "      <th>name</th>\n",
       "      <th>area_name</th>\n",
       "      <th>city_name</th>\n",
       "      <th>state_name</th>\n",
       "      <th>country_name</th>\n",
       "      <th>popularity</th>\n",
       "      <th>length</th>\n",
       "      <th>elevation_gain</th>\n",
       "      <th>difficulty_rating</th>\n",
       "      <th>route_type</th>\n",
       "      <th>visitor_usage</th>\n",
       "      <th>avg_rating</th>\n",
       "      <th>num_reviews</th>\n",
       "      <th>features</th>\n",
       "      <th>activities</th>\n",
       "      <th>units</th>\n",
       "      <th>lat</th>\n",
       "      <th>lng</th>\n",
       "    </tr>\n",
       "  </thead>\n",
       "  <tbody>\n",
       "    <tr>\n",
       "      <th>0</th>\n",
       "      <td>10020048</td>\n",
       "      <td>Harding Ice Field Trail</td>\n",
       "      <td>Kenai Fjords National Park</td>\n",
       "      <td>Seward</td>\n",
       "      <td>Alaska</td>\n",
       "      <td>United States</td>\n",
       "      <td>24.8931</td>\n",
       "      <td>15610.598</td>\n",
       "      <td>1161.8976</td>\n",
       "      <td>5</td>\n",
       "      <td>out and back</td>\n",
       "      <td>3.0</td>\n",
       "      <td>5.0</td>\n",
       "      <td>423</td>\n",
       "      <td>['dogs-no', 'forest', 'river', 'views', 'water...</td>\n",
       "      <td>['birding', 'camping', 'hiking', 'nature-trips...</td>\n",
       "      <td>i</td>\n",
       "      <td>60.18852</td>\n",
       "      <td>-149.63156</td>\n",
       "    </tr>\n",
       "    <tr>\n",
       "      <th>1</th>\n",
       "      <td>10236086</td>\n",
       "      <td>Mount Healy Overlook Trail</td>\n",
       "      <td>Denali National Park</td>\n",
       "      <td>Denali National Park</td>\n",
       "      <td>Alaska</td>\n",
       "      <td>United States</td>\n",
       "      <td>18.0311</td>\n",
       "      <td>6920.162</td>\n",
       "      <td>507.7968</td>\n",
       "      <td>3</td>\n",
       "      <td>out and back</td>\n",
       "      <td>1.0</td>\n",
       "      <td>4.5</td>\n",
       "      <td>260</td>\n",
       "      <td>['dogs-no', 'forest', 'views', 'wild-flowers',...</td>\n",
       "      <td>['birding', 'camping', 'hiking', 'nature-trips...</td>\n",
       "      <td>i</td>\n",
       "      <td>63.73049</td>\n",
       "      <td>-148.91968</td>\n",
       "    </tr>\n",
       "    <tr>\n",
       "      <th>2</th>\n",
       "      <td>10267857</td>\n",
       "      <td>Exit Glacier Trail</td>\n",
       "      <td>Kenai Fjords National Park</td>\n",
       "      <td>Seward</td>\n",
       "      <td>Alaska</td>\n",
       "      <td>United States</td>\n",
       "      <td>17.7821</td>\n",
       "      <td>2896.812</td>\n",
       "      <td>81.9912</td>\n",
       "      <td>1</td>\n",
       "      <td>out and back</td>\n",
       "      <td>3.0</td>\n",
       "      <td>4.5</td>\n",
       "      <td>224</td>\n",
       "      <td>['dogs-no', 'partially-paved', 'views', 'wildl...</td>\n",
       "      <td>['hiking', 'walking']</td>\n",
       "      <td>i</td>\n",
       "      <td>60.18879</td>\n",
       "      <td>-149.63100</td>\n",
       "    </tr>\n",
       "  </tbody>\n",
       "</table>\n",
       "</div>"
      ],
      "text/plain": [
       "   trail_id                        name                   area_name  \\\n",
       "0  10020048     Harding Ice Field Trail  Kenai Fjords National Park   \n",
       "1  10236086  Mount Healy Overlook Trail        Denali National Park   \n",
       "2  10267857          Exit Glacier Trail  Kenai Fjords National Park   \n",
       "\n",
       "              city_name state_name   country_name  popularity     length  \\\n",
       "0                Seward     Alaska  United States     24.8931  15610.598   \n",
       "1  Denali National Park     Alaska  United States     18.0311   6920.162   \n",
       "2                Seward     Alaska  United States     17.7821   2896.812   \n",
       "\n",
       "   elevation_gain  difficulty_rating    route_type  visitor_usage  avg_rating  \\\n",
       "0       1161.8976                  5  out and back            3.0         5.0   \n",
       "1        507.7968                  3  out and back            1.0         4.5   \n",
       "2         81.9912                  1  out and back            3.0         4.5   \n",
       "\n",
       "   num_reviews                                           features  \\\n",
       "0          423  ['dogs-no', 'forest', 'river', 'views', 'water...   \n",
       "1          260  ['dogs-no', 'forest', 'views', 'wild-flowers',...   \n",
       "2          224  ['dogs-no', 'partially-paved', 'views', 'wildl...   \n",
       "\n",
       "                                          activities units       lat  \\\n",
       "0  ['birding', 'camping', 'hiking', 'nature-trips...     i  60.18852   \n",
       "1  ['birding', 'camping', 'hiking', 'nature-trips...     i  63.73049   \n",
       "2                              ['hiking', 'walking']     i  60.18879   \n",
       "\n",
       "         lng  \n",
       "0 -149.63156  \n",
       "1 -148.91968  \n",
       "2 -149.63100  "
      ]
     },
     "execution_count": 2,
     "metadata": {},
     "output_type": "execute_result"
    }
   ],
   "source": [
    "df = pd.read_csv('../../data/models/df_cleaned.csv')\n",
    "df.head(3)"
   ]
  },
  {
   "cell_type": "markdown",
   "id": "f3dcc0b0",
   "metadata": {},
   "source": [
    "# Select features and one hot encode non-tag features"
   ]
  },
  {
   "cell_type": "code",
   "execution_count": 22,
   "id": "dc157719",
   "metadata": {},
   "outputs": [],
   "source": [
    "def one_hot_encode(df, trail_id, tag_features, non_tag_features, response):\n",
    "    \n",
    "    # Get column names of categorical and numerical variables\n",
    "    df_features = df[non_tag_features]\n",
    "    cat_names = df_features.select_dtypes(include='object').columns\n",
    "    num_names = df_features.select_dtypes(include=np.number).columns\n",
    "\n",
    "    # Encode categorical variables\n",
    "    enc_columns = pd.get_dummies(df_features[cat_names], drop_first = True)\n",
    "    enc_columns.columns = [i.replace(' ', '_') for i in enc_columns.columns]\n",
    "\n",
    "    # Concatenate encoded columns to numerical columns, and tag features\n",
    "    df_enc = pd.concat([df[trail_id], df_features[num_names], enc_columns, df[tag_features], df[response]], axis=1)\n",
    "    \n",
    "    return df_enc"
   ]
  },
  {
   "cell_type": "markdown",
   "id": "74d8696d",
   "metadata": {},
   "source": [
    "# One hot encode tags and save unique tags\n",
    "One hot encode `features` and `activities` columns."
   ]
  },
  {
   "cell_type": "code",
   "execution_count": 23,
   "id": "84a81124",
   "metadata": {},
   "outputs": [],
   "source": [
    "def list_to_text(ls, path):\n",
    "    textfile = open(path, \"w\")\n",
    "    for element in ls:\n",
    "        textfile.write(element + \"\\n\")\n",
    "    textfile.close()"
   ]
  },
  {
   "cell_type": "code",
   "execution_count": 24,
   "id": "10ff5959",
   "metadata": {},
   "outputs": [],
   "source": [
    "def expand_column(df, column_name, path):\n",
    "    \"\"\"\"\"\"\n",
    "    # Clean and split the elements by comma\n",
    "    split_series = [i.strip('[]') for i in df[column_name]]\n",
    "    split_series = pd.Series([i.replace(\"\\'\",\"\").replace(\"-\",\"_\").split(', ') for i in split_series])\n",
    "    \n",
    "    # Save the column's unique values \n",
    "    column_list = list(split_series)\n",
    "    flat_list = [item for sublist in column_list for item in sublist]\n",
    "    flat_list = [x for x in flat_list if x != '']\n",
    "    unique_val = np.unique(flat_list)\n",
    "    list_to_text(unique_val, path)\n",
    "    \n",
    "    # Create dummy dataframe\n",
    "    df_split = split_series.str.join('|').str.get_dummies()\n",
    "    df_split.columns = column_name + '_' + df_split.columns\n",
    "\n",
    "    # Join dummies with dataframe\n",
    "    df_expand = df.join(df_split)\n",
    "\n",
    "    # Drop original column\n",
    "    df_expand = df_expand.drop(columns=column_name)\n",
    "\n",
    "    return df_expand"
   ]
  },
  {
   "cell_type": "markdown",
   "id": "c165ed45",
   "metadata": {},
   "source": [
    "# Create response variable for classification\n",
    "Bin `difficulty_rating` feature into three classes."
   ]
  },
  {
   "cell_type": "code",
   "execution_count": 25,
   "id": "367c3a44",
   "metadata": {},
   "outputs": [],
   "source": [
    "def bin_feature(df, cut_labels, cut_bins, num_col_name, bin_col_name):\n",
    "    \"\"\"\n",
    "    cut_labels (list)\n",
    "    cut_bins (list)\n",
    "    \"\"\"\n",
    "    df[bin_col_name] = pd.cut(df[num_col_name], bins=cut_bins, labels=cut_labels)\n",
    "    df.drop(columns=num_col_name, inplace=True)\n",
    "    \n",
    "    return df"
   ]
  },
  {
   "cell_type": "markdown",
   "id": "6eb9dd3b",
   "metadata": {},
   "source": [
    "# Add features"
   ]
  },
  {
   "cell_type": "code",
   "execution_count": 26,
   "id": "1c83a18c",
   "metadata": {},
   "outputs": [],
   "source": [
    "trail_id = 'trail_id'\n",
    "tag_features = ['features', 'activities']\n",
    "non_tag_features = ['length', 'elevation_gain', 'route_type']\n",
    "response = 'difficulty_rating'\n",
    "\n",
    "cut_labels = ['easy', 'moderate', 'hard']\n",
    "cut_bins = [0, 2, 3, 7]"
   ]
  },
  {
   "cell_type": "code",
   "execution_count": 27,
   "id": "f5d35fbe",
   "metadata": {},
   "outputs": [],
   "source": [
    "# Select features and one hot encode non-tag categorical variables\n",
    "df_ohe = one_hot_encode(df, trail_id, tag_features, non_tag_features, response)\n",
    "\n",
    "# Create dummy variable for each tag\n",
    "df_expand = expand_column(df_ohe, 'features', '../../data/models/features.txt')\n",
    "df_expand = expand_column(df_expand, 'activities', '../../data/models/activities.txt')\n",
    "\n",
    "# Create response variable\n",
    "df_cleaned = bin_feature(df_expand, cut_labels, cut_bins, 'difficulty_rating', 'difficulty_class')"
   ]
  },
  {
   "cell_type": "code",
   "execution_count": 28,
   "id": "1b79b8f6",
   "metadata": {},
   "outputs": [
    {
     "data": {
      "text/plain": [
       "moderate    1453\n",
       "hard         975\n",
       "easy         885\n",
       "Name: difficulty_class, dtype: int64"
      ]
     },
     "execution_count": 28,
     "metadata": {},
     "output_type": "execute_result"
    }
   ],
   "source": [
    "df_cleaned['difficulty_class'].value_counts()"
   ]
  },
  {
   "cell_type": "code",
   "execution_count": 29,
   "id": "6d0f9be3",
   "metadata": {},
   "outputs": [],
   "source": [
    "df_cleaned.to_csv('../../data/models/df_featurize.csv', index=False)"
   ]
  },
  {
   "cell_type": "code",
   "execution_count": null,
   "id": "48db19fd",
   "metadata": {},
   "outputs": [],
   "source": []
  }
 ],
 "metadata": {
  "kernelspec": {
   "display_name": "Python 3",
   "language": "python",
   "name": "python3"
  },
  "language_info": {
   "codemirror_mode": {
    "name": "ipython",
    "version": 3
   },
   "file_extension": ".py",
   "mimetype": "text/x-python",
   "name": "python",
   "nbconvert_exporter": "python",
   "pygments_lexer": "ipython3",
   "version": "3.7.7"
  }
 },
 "nbformat": 4,
 "nbformat_minor": 5
}
