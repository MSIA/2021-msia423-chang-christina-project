{
 "cells": [
  {
   "cell_type": "code",
   "execution_count": 1,
   "id": "53322386",
   "metadata": {},
   "outputs": [],
   "source": [
    "import numpy as np\n",
    "import pandas as pd\n",
    "import pickle\n",
    "\n",
    "import sklearn\n",
    "from sklearn.model_selection import train_test_split\n",
    "from sklearn.model_selection import cross_val_score\n",
    "from sklearn.metrics import confusion_matrix\n",
    "from sklearn.ensemble import RandomForestClassifier"
   ]
  },
  {
   "cell_type": "code",
   "execution_count": 2,
   "id": "76f81a83",
   "metadata": {},
   "outputs": [],
   "source": [
    "# !pip install scikit_learn==0.24.2"
   ]
  },
  {
   "cell_type": "code",
   "execution_count": 3,
   "id": "2e2282e9",
   "metadata": {},
   "outputs": [
    {
     "name": "stdout",
     "output_type": "stream",
     "text": [
      "0.24.2\n"
     ]
    }
   ],
   "source": [
    "print(sklearn.__version__)"
   ]
  },
  {
   "cell_type": "code",
   "execution_count": 4,
   "id": "9de310c9",
   "metadata": {},
   "outputs": [
    {
     "data": {
      "text/html": [
       "<div>\n",
       "<style scoped>\n",
       "    .dataframe tbody tr th:only-of-type {\n",
       "        vertical-align: middle;\n",
       "    }\n",
       "\n",
       "    .dataframe tbody tr th {\n",
       "        vertical-align: top;\n",
       "    }\n",
       "\n",
       "    .dataframe thead th {\n",
       "        text-align: right;\n",
       "    }\n",
       "</style>\n",
       "<table border=\"1\" class=\"dataframe\">\n",
       "  <thead>\n",
       "    <tr style=\"text-align: right;\">\n",
       "      <th></th>\n",
       "      <th>trail_id</th>\n",
       "      <th>length</th>\n",
       "      <th>elevation_gain</th>\n",
       "      <th>route_type_out_and_back</th>\n",
       "      <th>route_type_point_to_point</th>\n",
       "      <th>features_ada</th>\n",
       "      <th>features_beach</th>\n",
       "      <th>features_cave</th>\n",
       "      <th>features_city_walk</th>\n",
       "      <th>features_dogs</th>\n",
       "      <th>...</th>\n",
       "      <th>activities_scenic_driving</th>\n",
       "      <th>activities_sea_kayaking</th>\n",
       "      <th>activities_skiing</th>\n",
       "      <th>activities_snowboarding</th>\n",
       "      <th>activities_snowshoeing</th>\n",
       "      <th>activities_surfing</th>\n",
       "      <th>activities_trail_running</th>\n",
       "      <th>activities_walking</th>\n",
       "      <th>activities_whitewater_kayaking</th>\n",
       "      <th>difficulty_class</th>\n",
       "    </tr>\n",
       "  </thead>\n",
       "  <tbody>\n",
       "    <tr>\n",
       "      <th>0</th>\n",
       "      <td>10020048</td>\n",
       "      <td>8.87</td>\n",
       "      <td>1161.8976</td>\n",
       "      <td>1</td>\n",
       "      <td>0</td>\n",
       "      <td>0</td>\n",
       "      <td>0</td>\n",
       "      <td>0</td>\n",
       "      <td>0</td>\n",
       "      <td>0</td>\n",
       "      <td>...</td>\n",
       "      <td>0</td>\n",
       "      <td>0</td>\n",
       "      <td>0</td>\n",
       "      <td>0</td>\n",
       "      <td>0</td>\n",
       "      <td>0</td>\n",
       "      <td>1</td>\n",
       "      <td>0</td>\n",
       "      <td>0</td>\n",
       "      <td>hard</td>\n",
       "    </tr>\n",
       "    <tr>\n",
       "      <th>1</th>\n",
       "      <td>10236086</td>\n",
       "      <td>3.93</td>\n",
       "      <td>507.7968</td>\n",
       "      <td>1</td>\n",
       "      <td>0</td>\n",
       "      <td>0</td>\n",
       "      <td>0</td>\n",
       "      <td>0</td>\n",
       "      <td>0</td>\n",
       "      <td>0</td>\n",
       "      <td>...</td>\n",
       "      <td>0</td>\n",
       "      <td>0</td>\n",
       "      <td>0</td>\n",
       "      <td>0</td>\n",
       "      <td>0</td>\n",
       "      <td>0</td>\n",
       "      <td>0</td>\n",
       "      <td>1</td>\n",
       "      <td>0</td>\n",
       "      <td>moderate</td>\n",
       "    </tr>\n",
       "    <tr>\n",
       "      <th>2</th>\n",
       "      <td>10267857</td>\n",
       "      <td>1.65</td>\n",
       "      <td>81.9912</td>\n",
       "      <td>1</td>\n",
       "      <td>0</td>\n",
       "      <td>0</td>\n",
       "      <td>0</td>\n",
       "      <td>0</td>\n",
       "      <td>0</td>\n",
       "      <td>0</td>\n",
       "      <td>...</td>\n",
       "      <td>0</td>\n",
       "      <td>0</td>\n",
       "      <td>0</td>\n",
       "      <td>0</td>\n",
       "      <td>0</td>\n",
       "      <td>0</td>\n",
       "      <td>0</td>\n",
       "      <td>1</td>\n",
       "      <td>0</td>\n",
       "      <td>easy</td>\n",
       "    </tr>\n",
       "  </tbody>\n",
       "</table>\n",
       "<p>3 rows × 54 columns</p>\n",
       "</div>"
      ],
      "text/plain": [
       "   trail_id  length  elevation_gain  route_type_out_and_back  \\\n",
       "0  10020048    8.87       1161.8976                        1   \n",
       "1  10236086    3.93        507.7968                        1   \n",
       "2  10267857    1.65         81.9912                        1   \n",
       "\n",
       "   route_type_point_to_point  features_ada  features_beach  features_cave  \\\n",
       "0                          0             0               0              0   \n",
       "1                          0             0               0              0   \n",
       "2                          0             0               0              0   \n",
       "\n",
       "   features_city_walk  features_dogs  ...  activities_scenic_driving  \\\n",
       "0                   0              0  ...                          0   \n",
       "1                   0              0  ...                          0   \n",
       "2                   0              0  ...                          0   \n",
       "\n",
       "   activities_sea_kayaking  activities_skiing  activities_snowboarding  \\\n",
       "0                        0                  0                        0   \n",
       "1                        0                  0                        0   \n",
       "2                        0                  0                        0   \n",
       "\n",
       "   activities_snowshoeing  activities_surfing  activities_trail_running  \\\n",
       "0                       0                   0                         1   \n",
       "1                       0                   0                         0   \n",
       "2                       0                   0                         0   \n",
       "\n",
       "   activities_walking  activities_whitewater_kayaking  difficulty_class  \n",
       "0                   0                               0              hard  \n",
       "1                   1                               0          moderate  \n",
       "2                   1                               0              easy  \n",
       "\n",
       "[3 rows x 54 columns]"
      ]
     },
     "execution_count": 4,
     "metadata": {},
     "output_type": "execute_result"
    }
   ],
   "source": [
    "df = pd.read_csv('../../data/models/df_featurize.csv')\n",
    "df.head(3)"
   ]
  },
  {
   "cell_type": "markdown",
   "id": "c8dc3800",
   "metadata": {},
   "source": [
    "# Train random forest model"
   ]
  },
  {
   "cell_type": "code",
   "execution_count": 5,
   "id": "2a5f0fb1",
   "metadata": {},
   "outputs": [],
   "source": [
    "def train(trail_id, response, test_size, random_state_split, random_state_model, model_path, x_test_path, y_test_path):\n",
    "    \n",
    "    # Train, test, split\n",
    "    X = df.drop(columns=[response, trail_id], axis=1)\n",
    "    y = df[response]\n",
    "    X_train, X_test, y_train, y_test = train_test_split(X, y, test_size=test_size, random_state=random_state_split)\n",
    "\n",
    "    # Train the model\n",
    "    clf = RandomForestClassifier(random_state=random_state_model, n_estimators=10)\n",
    "    clf = clf.fit(X_train, y_train)\n",
    "\n",
    "    # Save the model\n",
    "    pickle.dump(clf, open(model_path, 'wb'))\n",
    "\n",
    "    # Save the test features and labels\n",
    "    np.savetxt(x_test_path, X_test, delimiter=\",\", fmt='%s')\n",
    "    np.savetxt(y_test_path, y_test, delimiter=\",\", fmt='%s')"
   ]
  },
  {
   "cell_type": "markdown",
   "id": "0cd1b65b",
   "metadata": {},
   "source": [
    "# Evaluate cross validated accuracy"
   ]
  },
  {
   "cell_type": "code",
   "execution_count": 6,
   "id": "f589ee5e",
   "metadata": {},
   "outputs": [],
   "source": [
    "def evaluate(cv, model_path, x_test_path, y_test_path, scoring, cm_labels, output_path):\n",
    "    # Load model, x_test, and y_test\n",
    "    clf = pickle.load(open(model_path, 'rb'))\n",
    "    X_test = pd.read_csv(x_test_path, sep=',')\n",
    "    y_test = pd.read_csv(y_test_path, sep=',').values.ravel()\n",
    "\n",
    "    # Get predictions and probabilities\n",
    "    ypred_proba_test = clf.predict_proba(X_test)[:, 1]\n",
    "    ypred_bin_test = clf.predict(X_test)\n",
    "\n",
    "    # Calculate evaluation metrics\n",
    "    cv_score = cross_val_score(clf, X_test, y_test, cv=cv, scoring=scoring)\n",
    "    confusion = confusion_matrix(y_test, ypred_bin_test, labels=cm_labels)\n",
    "\n",
    "    print('Mean CV score: {:.3f}'.format(cv_score.mean()))\n",
    "    print('Var CV score  {:.3f}'.format(cv_score.std()))\n",
    "    print()\n",
    "    print(pd.DataFrame(confusion,\n",
    "                       index=cm_labels,\n",
    "                       columns=cm_labels))\n",
    "\n",
    "    # Save results to a text file\n",
    "    f = open(output_path, \"w+\")\n",
    "    f.write('Mean CV score: {:.3f}'.format(cv_score.mean()))\n",
    "    f.write('Var CV score  {:.3f}'.format(cv_score.std()))\n",
    "    f.write('\\n')\n",
    "    f.write(pd.DataFrame(confusion,\n",
    "                   index=cm_labels,\n",
    "                   columns=cm_labels).to_string())\n",
    "    f.close()"
   ]
  },
  {
   "cell_type": "markdown",
   "id": "35e1ffea",
   "metadata": {},
   "source": [
    "# Train and evaluate model"
   ]
  },
  {
   "cell_type": "code",
   "execution_count": 7,
   "id": "ff04df3c",
   "metadata": {},
   "outputs": [],
   "source": [
    "trail_id = 'trail_id'\n",
    "response = 'difficulty_class'\n",
    "test_size = 0.2\n",
    "random_state_split = 0\n",
    "random_state_model = 0\n",
    "model_path = '../../models/model.pkl'\n",
    "x_test_path = '../../data/models/x_test.csv'\n",
    "y_test_path = '../../data/models/y_test.csv'\n",
    "\n",
    "cv = 5\n",
    "model_path = '../../models/model.pkl'\n",
    "x_test_path = '../../data/models/x_test.csv'\n",
    "y_test_path = '../../data/models/y_test.csv'\n",
    "scoring = 'accuracy'\n",
    "cm_labels = ['easy', 'moderate', 'hard']\n",
    "output_path = '../../models/evaluate.txt'"
   ]
  },
  {
   "cell_type": "code",
   "execution_count": 8,
   "id": "d6386959",
   "metadata": {},
   "outputs": [
    {
     "name": "stdout",
     "output_type": "stream",
     "text": [
      "Mean CV score: 0.780\n",
      "Var CV score  0.048\n",
      "\n",
      "          easy  moderate  hard\n",
      "easy       128        25     4\n",
      "moderate    44       203    32\n",
      "hard         0        36   186\n"
     ]
    }
   ],
   "source": [
    "train(trail_id, response, test_size, random_state_split, random_state_model, model_path, x_test_path, y_test_path)\n",
    "evaluate(cv, model_path, x_test_path, y_test_path, scoring, cm_labels, output_path)"
   ]
  },
  {
   "cell_type": "code",
   "execution_count": 10,
   "id": "b6138f9c",
   "metadata": {},
   "outputs": [
    {
     "data": {
      "text/plain": [
       "RandomForestClassifier(n_estimators=10, random_state=0)"
      ]
     },
     "execution_count": 10,
     "metadata": {},
     "output_type": "execute_result"
    }
   ],
   "source": [
    "clf = pickle.load(open('../../models/model.pkl', 'rb'))\n",
    "clf"
   ]
  },
  {
   "cell_type": "code",
   "execution_count": 16,
   "id": "1d8d65d3",
   "metadata": {},
   "outputs": [],
   "source": [
    "X = df.drop(columns=['difficulty_class', 'trail_id'], axis=1)"
   ]
  },
  {
   "cell_type": "code",
   "execution_count": 18,
   "id": "7515d254",
   "metadata": {
    "scrolled": true
   },
   "outputs": [
    {
     "name": "stdout",
     "output_type": "stream",
     "text": [
      "length 0.14124896856360383\n",
      "elevation_gain 0.26425064347535765\n",
      "route_type_out_and_back 0.017355404155748627\n",
      "route_type_point_to_point 0.006086717488026481\n",
      "features_ada 0.006968049461094371\n",
      "features_beach 0.005582549604440789\n",
      "features_cave 0.004626017616670479\n",
      "features_city_walk 0.00010899524298894363\n",
      "features_dogs 0.0011638449822531068\n",
      "features_dogs_leash 0.008917601002316996\n",
      "features_dogs_no 0.014977663739796629\n",
      "features_forest 0.01769935581137977\n",
      "features_historic_site 0.004991011998119865\n",
      "features_hot_springs 0.003942490553753909\n",
      "features_kids 0.10627854260221156\n",
      "features_lake 0.01578778852920763\n",
      "features_partially_paved 0.006851509118187711\n",
      "features_paved 0.003806749672110833\n",
      "features_rails_trails 0.00035992332796277527\n",
      "features_river 0.013151145876186926\n",
      "features_strollers 0.004144859806702067\n",
      "features_views 0.00948837100973737\n",
      "features_waterfall 0.010355352925820908\n",
      "features_wild_flowers 0.019895743272441625\n",
      "features_wildlife 0.016704993909136392\n",
      "activities_backpacking 0.025765009989820925\n",
      "activities_bike_touring 0.0004681752043443845\n",
      "activities_birding 0.021395836191727465\n",
      "activities_camping 0.016204926483901094\n",
      "activities_canoeing 0.002334119392271762\n",
      "activities_cross_country_skiing 0.002801028951047455\n",
      "activities_fishing 0.004265483220481275\n",
      "activities_fly_fishing 0.0023694672697954153\n",
      "activities_hiking 0.009110261262361608\n",
      "activities_horseback_riding 0.009088505915420287\n",
      "activities_ice_climbing 0.0\n",
      "activities_mountain_biking 0.005881865509915329\n",
      "activities_nature_trips 0.016592190064647006\n",
      "activities_off_road_driving 0.0062803061682086495\n",
      "activities_paddle_sports 0.0021391951136221408\n",
      "activities_rails_trails 0.00018480135928823562\n",
      "activities_road_biking 0.0028443948719984727\n",
      "activities_rock_climbing 0.005311797570551365\n",
      "activities_scenic_driving 0.00678245746819398\n",
      "activities_sea_kayaking 0.0003909112041221911\n",
      "activities_skiing 0.0005555400826720013\n",
      "activities_snowboarding 0.00042644226628698895\n",
      "activities_snowshoeing 0.004941610570091824\n",
      "activities_surfing 0.00038609466905078224\n",
      "activities_trail_running 0.01667866494521256\n",
      "activities_walking 0.1315599754291699\n",
      "activities_whitewater_kayaking 0.0004966450805397945\n"
     ]
    }
   ],
   "source": [
    "for name, importance in zip(X.columns, clf.feature_importances_):\n",
    "    print(name, importance)"
   ]
  },
  {
   "cell_type": "code",
   "execution_count": 19,
   "id": "de5bd097",
   "metadata": {},
   "outputs": [],
   "source": [
    "imp_df = pd.DataFrame({'feature':X.columns, 'imp':clf.feature_importances_})\n",
    "imp_df = imp_df.sort_values(by=['imp'],ascending=False).reset_index(drop=True)"
   ]
  },
  {
   "cell_type": "code",
   "execution_count": 26,
   "id": "19983661",
   "metadata": {},
   "outputs": [
    {
     "data": {
      "text/html": [
       "<div>\n",
       "<style scoped>\n",
       "    .dataframe tbody tr th:only-of-type {\n",
       "        vertical-align: middle;\n",
       "    }\n",
       "\n",
       "    .dataframe tbody tr th {\n",
       "        vertical-align: top;\n",
       "    }\n",
       "\n",
       "    .dataframe thead th {\n",
       "        text-align: right;\n",
       "    }\n",
       "</style>\n",
       "<table border=\"1\" class=\"dataframe\">\n",
       "  <thead>\n",
       "    <tr style=\"text-align: right;\">\n",
       "      <th></th>\n",
       "      <th>feature</th>\n",
       "      <th>imp</th>\n",
       "    </tr>\n",
       "  </thead>\n",
       "  <tbody>\n",
       "    <tr>\n",
       "      <th>0</th>\n",
       "      <td>elevation_gain</td>\n",
       "      <td>0.264251</td>\n",
       "    </tr>\n",
       "    <tr>\n",
       "      <th>1</th>\n",
       "      <td>length</td>\n",
       "      <td>0.141249</td>\n",
       "    </tr>\n",
       "    <tr>\n",
       "      <th>2</th>\n",
       "      <td>activities_walking</td>\n",
       "      <td>0.131560</td>\n",
       "    </tr>\n",
       "    <tr>\n",
       "      <th>3</th>\n",
       "      <td>features_kids</td>\n",
       "      <td>0.106279</td>\n",
       "    </tr>\n",
       "    <tr>\n",
       "      <th>4</th>\n",
       "      <td>activities_backpacking</td>\n",
       "      <td>0.025765</td>\n",
       "    </tr>\n",
       "  </tbody>\n",
       "</table>\n",
       "</div>"
      ],
      "text/plain": [
       "                  feature       imp\n",
       "0          elevation_gain  0.264251\n",
       "1                  length  0.141249\n",
       "2      activities_walking  0.131560\n",
       "3           features_kids  0.106279\n",
       "4  activities_backpacking  0.025765"
      ]
     },
     "execution_count": 26,
     "metadata": {},
     "output_type": "execute_result"
    }
   ],
   "source": [
    "imp_df.head(5)"
   ]
  },
  {
   "cell_type": "code",
   "execution_count": 24,
   "id": "3ef7cf25",
   "metadata": {},
   "outputs": [
    {
     "data": {
      "image/png": "[encoded data removed]",
      "text/plain": [
       "<Figure size 720x576 with 1 Axes>"
      ]
     },
     "metadata": {
      "needs_background": "light"
     },
     "output_type": "display_data"
    }
   ],
   "source": [
    "import matplotlib.pyplot as plt\n",
    "import seaborn as sns\n",
    "\n",
    "plt.figure(figsize = (10,8))\n",
    "sns.scatterplot(x='imp',y='feature',data=imp_df.head(10), marker='o', s=120, alpha=0.7)\n",
    "plt.xlabel('Feature Importance')\n",
    "plt.ylabel('Feature Name')\n",
    "plt.title('Random Forest Feature Importance')\n",
    "plt.show()"
   ]
  },
  {
   "cell_type": "code",
   "execution_count": null,
   "id": "b7082761",
   "metadata": {},
   "outputs": [],
   "source": []
  }
 ],
 "metadata": {
  "kernelspec": {
   "display_name": "Python 3",
   "language": "python",
   "name": "python3"
  },
  "language_info": {
   "codemirror_mode": {
    "name": "ipython",
    "version": 3
   },
   "file_extension": ".py",
   "mimetype": "text/x-python",
   "name": "python",
   "nbconvert_exporter": "python",
   "pygments_lexer": "ipython3",
   "version": "3.7.7"
  }
 },
 "nbformat": 4,
 "nbformat_minor": 5
}
