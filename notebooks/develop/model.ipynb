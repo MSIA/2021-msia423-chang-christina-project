{
 "cells": [
  {
   "cell_type": "code",
   "execution_count": 9,
   "id": "53322386",
   "metadata": {},
   "outputs": [],
   "source": [
    "import numpy as np\n",
    "import pandas as pd\n",
    "import pickle\n",
    "\n",
    "import sklearn\n",
    "from sklearn.model_selection import train_test_split\n",
    "from sklearn.model_selection import cross_val_score\n",
    "from sklearn.metrics import confusion_matrix\n",
    "from sklearn.ensemble import RandomForestClassifier"
   ]
  },
  {
   "cell_type": "code",
   "execution_count": 10,
   "id": "9de310c9",
   "metadata": {},
   "outputs": [
    {
     "data": {
      "text/html": [
       "<div>\n",
       "<style scoped>\n",
       "    .dataframe tbody tr th:only-of-type {\n",
       "        vertical-align: middle;\n",
       "    }\n",
       "\n",
       "    .dataframe tbody tr th {\n",
       "        vertical-align: top;\n",
       "    }\n",
       "\n",
       "    .dataframe thead th {\n",
       "        text-align: right;\n",
       "    }\n",
       "</style>\n",
       "<table border=\"1\" class=\"dataframe\">\n",
       "  <thead>\n",
       "    <tr style=\"text-align: right;\">\n",
       "      <th></th>\n",
       "      <th>trail_id</th>\n",
       "      <th>length</th>\n",
       "      <th>elevation_gain</th>\n",
       "      <th>route_type_out_and_back</th>\n",
       "      <th>route_type_point_to_point</th>\n",
       "      <th>features_ada</th>\n",
       "      <th>features_beach</th>\n",
       "      <th>features_cave</th>\n",
       "      <th>features_city_walk</th>\n",
       "      <th>features_dogs</th>\n",
       "      <th>...</th>\n",
       "      <th>activities_scenic_driving</th>\n",
       "      <th>activities_sea_kayaking</th>\n",
       "      <th>activities_skiing</th>\n",
       "      <th>activities_snowboarding</th>\n",
       "      <th>activities_snowshoeing</th>\n",
       "      <th>activities_surfing</th>\n",
       "      <th>activities_trail_running</th>\n",
       "      <th>activities_walking</th>\n",
       "      <th>activities_whitewater_kayaking</th>\n",
       "      <th>difficulty_class</th>\n",
       "    </tr>\n",
       "  </thead>\n",
       "  <tbody>\n",
       "    <tr>\n",
       "      <th>0</th>\n",
       "      <td>10020048</td>\n",
       "      <td>15610.598</td>\n",
       "      <td>1161.8976</td>\n",
       "      <td>1</td>\n",
       "      <td>0</td>\n",
       "      <td>0</td>\n",
       "      <td>0</td>\n",
       "      <td>0</td>\n",
       "      <td>0</td>\n",
       "      <td>0</td>\n",
       "      <td>...</td>\n",
       "      <td>0</td>\n",
       "      <td>0</td>\n",
       "      <td>0</td>\n",
       "      <td>0</td>\n",
       "      <td>0</td>\n",
       "      <td>0</td>\n",
       "      <td>1</td>\n",
       "      <td>0</td>\n",
       "      <td>0</td>\n",
       "      <td>hard</td>\n",
       "    </tr>\n",
       "    <tr>\n",
       "      <th>1</th>\n",
       "      <td>10236086</td>\n",
       "      <td>6920.162</td>\n",
       "      <td>507.7968</td>\n",
       "      <td>1</td>\n",
       "      <td>0</td>\n",
       "      <td>0</td>\n",
       "      <td>0</td>\n",
       "      <td>0</td>\n",
       "      <td>0</td>\n",
       "      <td>0</td>\n",
       "      <td>...</td>\n",
       "      <td>0</td>\n",
       "      <td>0</td>\n",
       "      <td>0</td>\n",
       "      <td>0</td>\n",
       "      <td>0</td>\n",
       "      <td>0</td>\n",
       "      <td>0</td>\n",
       "      <td>1</td>\n",
       "      <td>0</td>\n",
       "      <td>moderate</td>\n",
       "    </tr>\n",
       "    <tr>\n",
       "      <th>2</th>\n",
       "      <td>10267857</td>\n",
       "      <td>2896.812</td>\n",
       "      <td>81.9912</td>\n",
       "      <td>1</td>\n",
       "      <td>0</td>\n",
       "      <td>0</td>\n",
       "      <td>0</td>\n",
       "      <td>0</td>\n",
       "      <td>0</td>\n",
       "      <td>0</td>\n",
       "      <td>...</td>\n",
       "      <td>0</td>\n",
       "      <td>0</td>\n",
       "      <td>0</td>\n",
       "      <td>0</td>\n",
       "      <td>0</td>\n",
       "      <td>0</td>\n",
       "      <td>0</td>\n",
       "      <td>1</td>\n",
       "      <td>0</td>\n",
       "      <td>easy</td>\n",
       "    </tr>\n",
       "  </tbody>\n",
       "</table>\n",
       "<p>3 rows × 54 columns</p>\n",
       "</div>"
      ],
      "text/plain": [
       "   trail_id     length  elevation_gain  route_type_out_and_back  \\\n",
       "0  10020048  15610.598       1161.8976                        1   \n",
       "1  10236086   6920.162        507.7968                        1   \n",
       "2  10267857   2896.812         81.9912                        1   \n",
       "\n",
       "   route_type_point_to_point  features_ada  features_beach  features_cave  \\\n",
       "0                          0             0               0              0   \n",
       "1                          0             0               0              0   \n",
       "2                          0             0               0              0   \n",
       "\n",
       "   features_city_walk  features_dogs  ...  activities_scenic_driving  \\\n",
       "0                   0              0  ...                          0   \n",
       "1                   0              0  ...                          0   \n",
       "2                   0              0  ...                          0   \n",
       "\n",
       "   activities_sea_kayaking  activities_skiing  activities_snowboarding  \\\n",
       "0                        0                  0                        0   \n",
       "1                        0                  0                        0   \n",
       "2                        0                  0                        0   \n",
       "\n",
       "   activities_snowshoeing  activities_surfing  activities_trail_running  \\\n",
       "0                       0                   0                         1   \n",
       "1                       0                   0                         0   \n",
       "2                       0                   0                         0   \n",
       "\n",
       "   activities_walking  activities_whitewater_kayaking  difficulty_class  \n",
       "0                   0                               0              hard  \n",
       "1                   1                               0          moderate  \n",
       "2                   1                               0              easy  \n",
       "\n",
       "[3 rows x 54 columns]"
      ]
     },
     "execution_count": 10,
     "metadata": {},
     "output_type": "execute_result"
    }
   ],
   "source": [
    "df = pd.read_csv('../../data/models/df_featurize.csv')\n",
    "df.head(3)"
   ]
  },
  {
   "cell_type": "markdown",
   "id": "c8dc3800",
   "metadata": {},
   "source": [
    "# Train random forest model"
   ]
  },
  {
   "cell_type": "code",
   "execution_count": 11,
   "id": "2a5f0fb1",
   "metadata": {},
   "outputs": [],
   "source": [
    "def train(trail_id, response, test_size, random_state_split, random_state_model, model_path, x_test_path, y_test_path):\n",
    "    \n",
    "    # Train, test, split\n",
    "    X = df.drop(columns=[response, trail_id], axis=1)\n",
    "    y = df[response]\n",
    "    X_train, X_test, y_train, y_test = train_test_split(X, y, test_size=test_size, random_state=random_state_split)\n",
    "\n",
    "    # Train the model\n",
    "    clf = RandomForestClassifier(random_state=random_state_model)\n",
    "    clf = clf.fit(X_train, y_train)\n",
    "\n",
    "    # Save the model\n",
    "    pickle.dump(clf, open(model_path, 'wb'))\n",
    "\n",
    "    # Save the test features and labels\n",
    "    np.savetxt(x_test_path, X_test, delimiter=\",\", fmt='%s')\n",
    "    np.savetxt(y_test_path, y_test, delimiter=\",\", fmt='%s')"
   ]
  },
  {
   "cell_type": "markdown",
   "id": "0cd1b65b",
   "metadata": {},
   "source": [
    "# Evaluate cross validated accuracy"
   ]
  },
  {
   "cell_type": "code",
   "execution_count": 12,
   "id": "f589ee5e",
   "metadata": {},
   "outputs": [],
   "source": [
    "def evaluate(cv, model_path, x_test_path, y_test_path, scoring, cm_labels, output_path):\n",
    "    # Load model, x_test, and y_test\n",
    "    clf = pickle.load(open(model_path, 'rb'))\n",
    "    X_test = pd.read_csv(x_test_path, sep=',')\n",
    "    y_test = pd.read_csv(y_test_path, sep=',').values.ravel()\n",
    "\n",
    "    # Get predictions and probabilities\n",
    "    ypred_proba_test = clf.predict_proba(X_test)[:, 1]\n",
    "    ypred_bin_test = clf.predict(X_test)\n",
    "\n",
    "    # Calculate evaluation metrics\n",
    "    cv_score = cross_val_score(clf, X_test, y_test, cv=cv, scoring=scoring)\n",
    "    confusion = confusion_matrix(y_test, ypred_bin_test, labels=cm_labels)\n",
    "\n",
    "    print('Mean CV score: {:.3f}'.format(cv_score.mean()))\n",
    "    print('Var CV score  {:.3f}'.format(cv_score.std()))\n",
    "    print()\n",
    "    print(pd.DataFrame(confusion,\n",
    "                       index=cm_labels,\n",
    "                       columns=cm_labels))\n",
    "\n",
    "    # Save results to a text file\n",
    "    f = open(output_path, \"w+\")\n",
    "    f.write('Mean CV score: {:.3f}'.format(cv_score.mean()))\n",
    "    f.write('Var CV score  {:.3f}'.format(cv_score.std()))\n",
    "    f.write('\\n')\n",
    "    f.write(pd.DataFrame(confusion,\n",
    "                   index=cm_labels,\n",
    "                   columns=cm_labels).to_string())\n",
    "    f.close()"
   ]
  },
  {
   "cell_type": "code",
   "execution_count": 30,
   "id": "4a81d609",
   "metadata": {},
   "outputs": [],
   "source": [
    "input_vector = np.array(df.drop(columns=['trail_id', 'difficulty_class']).iloc[0]).reshape(1, -1)"
   ]
  },
  {
   "cell_type": "code",
   "execution_count": 31,
   "id": "57bfdf15",
   "metadata": {},
   "outputs": [
    {
     "data": {
      "text/plain": [
       "array(['hard'], dtype=object)"
      ]
     },
     "execution_count": 31,
     "metadata": {},
     "output_type": "execute_result"
    }
   ],
   "source": [
    "model = pickle.load(open('../../models/model.pkl', 'rb'))\n",
    "model.predict(input_vector)"
   ]
  },
  {
   "cell_type": "markdown",
   "id": "35e1ffea",
   "metadata": {},
   "source": [
    "# Train and evaluate model"
   ]
  },
  {
   "cell_type": "code",
   "execution_count": 13,
   "id": "ff04df3c",
   "metadata": {},
   "outputs": [],
   "source": [
    "trail_id = 'trail_id'\n",
    "response = 'difficulty_class'\n",
    "test_size = 0.2\n",
    "random_state_split = 0\n",
    "random_state_model = 0\n",
    "model_path = '../../models/model.pkl'\n",
    "x_test_path = '../../data/models/x_test.csv'\n",
    "y_test_path = '../../data/models/y_test.csv'\n",
    "\n",
    "cv = 5\n",
    "model_path = '../../models/model.pkl'\n",
    "x_test_path = '../../data/models/x_test.csv'\n",
    "y_test_path = '../../data/models/y_test.csv'\n",
    "scoring = 'accuracy'\n",
    "cm_labels = ['easy', 'moderate', 'hard']\n",
    "output_path = '../../models/evaluate.txt'"
   ]
  },
  {
   "cell_type": "code",
   "execution_count": 14,
   "id": "d6386959",
   "metadata": {},
   "outputs": [
    {
     "name": "stdout",
     "output_type": "stream",
     "text": [
      "Mean CV score: 0.823\n",
      "Var CV score  0.026\n",
      "\n",
      "          easy  moderate  hard\n",
      "easy       141        28     1\n",
      "moderate    29       241    25\n",
      "hard         0        33   164\n"
     ]
    }
   ],
   "source": [
    "train(trail_id, response, test_size, random_state_split, random_state_model, model_path, x_test_path, y_test_path)\n",
    "evaluate(cv, model_path, x_test_path, y_test_path, scoring, cm_labels, output_path)"
   ]
  },
  {
   "cell_type": "code",
   "execution_count": null,
   "id": "b6138f9c",
   "metadata": {},
   "outputs": [],
   "source": []
  }
 ],
 "metadata": {
  "kernelspec": {
   "display_name": "Python 3",
   "language": "python",
   "name": "python3"
  },
  "language_info": {
   "codemirror_mode": {
    "name": "ipython",
    "version": 3
   },
   "file_extension": ".py",
   "mimetype": "text/x-python",
   "name": "python",
   "nbconvert_exporter": "python",
   "pygments_lexer": "ipython3",
   "version": "3.7.7"
  }
 },
 "nbformat": 4,
 "nbformat_minor": 5
}
