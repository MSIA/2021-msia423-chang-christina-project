{
 "cells": [
  {
   "cell_type": "code",
   "execution_count": 1,
   "id": "2d2469b3",
   "metadata": {},
   "outputs": [],
   "source": [
    "import numpy as np\n",
    "import pandas as pd\n",
    "import pytest\n",
    "from sqlalchemy import create_engine"
   ]
  },
  {
   "cell_type": "code",
   "execution_count": 5,
   "id": "4244dd2c",
   "metadata": {},
   "outputs": [
    {
     "data": {
      "text/html": [
       "<div>\n",
       "<style scoped>\n",
       "    .dataframe tbody tr th:only-of-type {\n",
       "        vertical-align: middle;\n",
       "    }\n",
       "\n",
       "    .dataframe tbody tr th {\n",
       "        vertical-align: top;\n",
       "    }\n",
       "\n",
       "    .dataframe thead th {\n",
       "        text-align: right;\n",
       "    }\n",
       "</style>\n",
       "<table border=\"1\" class=\"dataframe\">\n",
       "  <thead>\n",
       "    <tr style=\"text-align: right;\">\n",
       "      <th></th>\n",
       "      <th>trail_id</th>\n",
       "      <th>name</th>\n",
       "      <th>area_name</th>\n",
       "      <th>city_name</th>\n",
       "      <th>state_name</th>\n",
       "      <th>country_name</th>\n",
       "      <th>_geoloc</th>\n",
       "      <th>popularity</th>\n",
       "      <th>length</th>\n",
       "      <th>elevation_gain</th>\n",
       "      <th>difficulty_rating</th>\n",
       "      <th>route_type</th>\n",
       "      <th>visitor_usage</th>\n",
       "      <th>avg_rating</th>\n",
       "      <th>num_reviews</th>\n",
       "      <th>features</th>\n",
       "      <th>activities</th>\n",
       "      <th>units</th>\n",
       "    </tr>\n",
       "  </thead>\n",
       "  <tbody>\n",
       "    <tr>\n",
       "      <th>0</th>\n",
       "      <td>10020048</td>\n",
       "      <td>Harding Ice Field Trail</td>\n",
       "      <td>Kenai Fjords National Park</td>\n",
       "      <td>Seward</td>\n",
       "      <td>Alaska</td>\n",
       "      <td>United States</td>\n",
       "      <td>{'lat': 60.18852, 'lng': -149.63156}</td>\n",
       "      <td>24.8931</td>\n",
       "      <td>15610.598</td>\n",
       "      <td>1161.8976</td>\n",
       "      <td>5</td>\n",
       "      <td>out and back</td>\n",
       "      <td>3.0</td>\n",
       "      <td>5.0</td>\n",
       "      <td>423</td>\n",
       "      <td>['dogs-no', 'forest', 'river', 'views', 'water...</td>\n",
       "      <td>['birding', 'camping', 'hiking', 'nature-trips...</td>\n",
       "      <td>i</td>\n",
       "    </tr>\n",
       "    <tr>\n",
       "      <th>1</th>\n",
       "      <td>10236086</td>\n",
       "      <td>Mount Healy Overlook Trail</td>\n",
       "      <td>Denali National Park</td>\n",
       "      <td>Denali National Park</td>\n",
       "      <td>Alaska</td>\n",
       "      <td>United States</td>\n",
       "      <td>{'lat': 63.73049, 'lng': -148.91968}</td>\n",
       "      <td>18.0311</td>\n",
       "      <td>6920.162</td>\n",
       "      <td>507.7968</td>\n",
       "      <td>3</td>\n",
       "      <td>out and back</td>\n",
       "      <td>1.0</td>\n",
       "      <td>4.5</td>\n",
       "      <td>260</td>\n",
       "      <td>['dogs-no', 'forest', 'views', 'wild-flowers',...</td>\n",
       "      <td>['birding', 'camping', 'hiking', 'nature-trips...</td>\n",
       "      <td>i</td>\n",
       "    </tr>\n",
       "    <tr>\n",
       "      <th>2</th>\n",
       "      <td>10267857</td>\n",
       "      <td>Exit Glacier Trail</td>\n",
       "      <td>Kenai Fjords National Park</td>\n",
       "      <td>Seward</td>\n",
       "      <td>Alaska</td>\n",
       "      <td>United States</td>\n",
       "      <td>{'lat': 60.18879, 'lng': -149.631}</td>\n",
       "      <td>17.7821</td>\n",
       "      <td>2896.812</td>\n",
       "      <td>81.9912</td>\n",
       "      <td>1</td>\n",
       "      <td>out and back</td>\n",
       "      <td>3.0</td>\n",
       "      <td>4.5</td>\n",
       "      <td>224</td>\n",
       "      <td>['dogs-no', 'partially-paved', 'views', 'wildl...</td>\n",
       "      <td>['hiking', 'walking']</td>\n",
       "      <td>i</td>\n",
       "    </tr>\n",
       "  </tbody>\n",
       "</table>\n",
       "</div>"
      ],
      "text/plain": [
       "   trail_id                        name                   area_name  \\\n",
       "0  10020048     Harding Ice Field Trail  Kenai Fjords National Park   \n",
       "1  10236086  Mount Healy Overlook Trail        Denali National Park   \n",
       "2  10267857          Exit Glacier Trail  Kenai Fjords National Park   \n",
       "\n",
       "              city_name state_name   country_name  \\\n",
       "0                Seward     Alaska  United States   \n",
       "1  Denali National Park     Alaska  United States   \n",
       "2                Seward     Alaska  United States   \n",
       "\n",
       "                                _geoloc  popularity     length  \\\n",
       "0  {'lat': 60.18852, 'lng': -149.63156}     24.8931  15610.598   \n",
       "1  {'lat': 63.73049, 'lng': -148.91968}     18.0311   6920.162   \n",
       "2    {'lat': 60.18879, 'lng': -149.631}     17.7821   2896.812   \n",
       "\n",
       "   elevation_gain  difficulty_rating    route_type  visitor_usage  avg_rating  \\\n",
       "0       1161.8976                  5  out and back            3.0         5.0   \n",
       "1        507.7968                  3  out and back            1.0         4.5   \n",
       "2         81.9912                  1  out and back            3.0         4.5   \n",
       "\n",
       "   num_reviews                                           features  \\\n",
       "0          423  ['dogs-no', 'forest', 'river', 'views', 'water...   \n",
       "1          260  ['dogs-no', 'forest', 'views', 'wild-flowers',...   \n",
       "2          224  ['dogs-no', 'partially-paved', 'views', 'wildl...   \n",
       "\n",
       "                                          activities units  \n",
       "0  ['birding', 'camping', 'hiking', 'nature-trips...     i  \n",
       "1  ['birding', 'camping', 'hiking', 'nature-trips...     i  \n",
       "2                              ['hiking', 'walking']     i  "
      ]
     },
     "execution_count": 5,
     "metadata": {},
     "output_type": "execute_result"
    }
   ],
   "source": [
    "df = pd.read_csv('../../data/raw/national-park-trails.csv')\n",
    "df.head(3)"
   ]
  },
  {
   "cell_type": "code",
   "execution_count": 6,
   "id": "ad76571e",
   "metadata": {},
   "outputs": [
    {
     "data": {
      "text/plain": [
       "(3313, 18)"
      ]
     },
     "execution_count": 6,
     "metadata": {},
     "output_type": "execute_result"
    }
   ],
   "source": [
    "np.shape(df)"
   ]
  },
  {
   "cell_type": "markdown",
   "id": "2fe86608",
   "metadata": {},
   "source": [
    "# Read from SQL"
   ]
  },
  {
   "cell_type": "code",
   "execution_count": 7,
   "id": "6a1d3a8b",
   "metadata": {},
   "outputs": [],
   "source": [
    "# # Connect to database, replace with RDS string in script\n",
    "# cn = create_engine('sqlite:///../../data/trails.db').connect()\n",
    "  \n",
    "# # Read as dataframe\n",
    "# df = pd.read_sql_table('trails', cn)"
   ]
  },
  {
   "cell_type": "markdown",
   "id": "8b46af0c",
   "metadata": {},
   "source": [
    "# Convert `length` units"
   ]
  },
  {
   "cell_type": "code",
   "execution_count": 8,
   "id": "7121ea41",
   "metadata": {},
   "outputs": [],
   "source": [
    "def yards_to_miles(df, column_name, digits):\n",
    "    df[column_name] = round(df[column_name] / 1760, digits)\n",
    "    return df"
   ]
  },
  {
   "cell_type": "markdown",
   "id": "68672036",
   "metadata": {},
   "source": [
    "# Remove closed trails"
   ]
  },
  {
   "cell_type": "code",
   "execution_count": 9,
   "id": "f2b5dce2",
   "metadata": {},
   "outputs": [],
   "source": [
    "def df_drop_str(df, column_name, drop_str):\n",
    "    df_drop = df[~df[column_name].str.lower().str.contains(drop_str)]\n",
    "    return df_drop"
   ]
  },
  {
   "cell_type": "markdown",
   "id": "5e2b2118",
   "metadata": {},
   "source": [
    "# Parse location\n",
    "Parse latitude and longitude from `_geoloc` column."
   ]
  },
  {
   "cell_type": "code",
   "execution_count": 8,
   "id": "3e831a34",
   "metadata": {},
   "outputs": [],
   "source": [
    "# def parse_one_geoloc(geoloc):\n",
    "    \n",
    "#     # Remove parenthesis and only grab latitude and longitude\n",
    "#     split_ls = geoloc.strip('{}').split(',')\n",
    "#     geoloc_ls = [float(i.split(':')[1].strip()) for i in split_ls]\n",
    "    \n",
    "#     return geoloc_ls\n",
    "\n",
    "# def parse_geoloc(df, column_name):\n",
    "    \n",
    "#     # Create new columns for latitude and longitude\n",
    "#     geoloc_ls = [parse_one_geoloc(i) for i in df[column_name]]\n",
    "#     df['lat'] = [i[0] for i in geoloc_ls]\n",
    "#     df['lng'] = [i[1] for i in geoloc_ls]\n",
    "    \n",
    "#     # Drop the original variable\n",
    "#     df = df.drop(columns=column_name)\n",
    "    \n",
    "#     return df"
   ]
  },
  {
   "cell_type": "markdown",
   "id": "ecfb8da4",
   "metadata": {},
   "source": [
    "# Create cleaned dataset"
   ]
  },
  {
   "cell_type": "code",
   "execution_count": 8,
   "id": "43877f83",
   "metadata": {},
   "outputs": [],
   "source": [
    "# yards to miles\n",
    "column_name1 = 'length'\n",
    "digits = 2\n",
    "\n",
    "# drop closed trails\n",
    "column_name2 = 'name'\n",
    "drop_str = 'closed'"
   ]
  },
  {
   "cell_type": "code",
   "execution_count": 9,
   "id": "1e23b384",
   "metadata": {},
   "outputs": [],
   "source": [
    "# Convert yards to miles\n",
    "df_convert = yards_to_miles(df, column_name1, digits)\n",
    "\n",
    "# Drop trails\n",
    "df_clean = df_drop_str(df_convert, column_name2, drop_str)\n",
    "\n",
    "# Parse geoloc\n",
    "# df_geoloc = parse_geoloc(df, '_geoloc')\n",
    "# df_geoloc.to_csv('../../data/models/df_cleaned.csv', index=False)"
   ]
  },
  {
   "cell_type": "code",
   "execution_count": 12,
   "id": "18b07198",
   "metadata": {},
   "outputs": [
    {
     "data": {
      "text/html": [
       "<div>\n",
       "<style scoped>\n",
       "    .dataframe tbody tr th:only-of-type {\n",
       "        vertical-align: middle;\n",
       "    }\n",
       "\n",
       "    .dataframe tbody tr th {\n",
       "        vertical-align: top;\n",
       "    }\n",
       "\n",
       "    .dataframe thead th {\n",
       "        text-align: right;\n",
       "    }\n",
       "</style>\n",
       "<table border=\"1\" class=\"dataframe\">\n",
       "  <thead>\n",
       "    <tr style=\"text-align: right;\">\n",
       "      <th></th>\n",
       "      <th>trail_id</th>\n",
       "      <th>name</th>\n",
       "      <th>area_name</th>\n",
       "      <th>city_name</th>\n",
       "      <th>length</th>\n",
       "      <th>elevation_gain</th>\n",
       "      <th>route_type</th>\n",
       "      <th>features</th>\n",
       "      <th>activities</th>\n",
       "    </tr>\n",
       "  </thead>\n",
       "  <tbody>\n",
       "    <tr>\n",
       "      <th>0</th>\n",
       "      <td>10020048</td>\n",
       "      <td>Harding Ice Field Trail</td>\n",
       "      <td>Kenai Fjords National Park</td>\n",
       "      <td>Seward</td>\n",
       "      <td>8.87</td>\n",
       "      <td>1161.8976</td>\n",
       "      <td>out and back</td>\n",
       "      <td>['dogs-no', 'forest', 'river', 'views', 'water...</td>\n",
       "      <td>['birding', 'camping', 'hiking', 'nature-trips...</td>\n",
       "    </tr>\n",
       "    <tr>\n",
       "      <th>1</th>\n",
       "      <td>10236086</td>\n",
       "      <td>Mount Healy Overlook Trail</td>\n",
       "      <td>Denali National Park</td>\n",
       "      <td>Denali National Park</td>\n",
       "      <td>3.93</td>\n",
       "      <td>507.7968</td>\n",
       "      <td>out and back</td>\n",
       "      <td>['dogs-no', 'forest', 'views', 'wild-flowers',...</td>\n",
       "      <td>['birding', 'camping', 'hiking', 'nature-trips...</td>\n",
       "    </tr>\n",
       "    <tr>\n",
       "      <th>2</th>\n",
       "      <td>10267857</td>\n",
       "      <td>Exit Glacier Trail</td>\n",
       "      <td>Kenai Fjords National Park</td>\n",
       "      <td>Seward</td>\n",
       "      <td>1.65</td>\n",
       "      <td>81.9912</td>\n",
       "      <td>out and back</td>\n",
       "      <td>['dogs-no', 'partially-paved', 'views', 'wildl...</td>\n",
       "      <td>['hiking', 'walking']</td>\n",
       "    </tr>\n",
       "    <tr>\n",
       "      <th>3</th>\n",
       "      <td>10236076</td>\n",
       "      <td>Horseshoe Lake Trail</td>\n",
       "      <td>Denali National Park</td>\n",
       "      <td>Denali National Park</td>\n",
       "      <td>1.92</td>\n",
       "      <td>119.7864</td>\n",
       "      <td>loop</td>\n",
       "      <td>['dogs-no', 'forest', 'lake', 'kids', 'views',...</td>\n",
       "      <td>['birding', 'hiking', 'nature-trips', 'trail-r...</td>\n",
       "    </tr>\n",
       "    <tr>\n",
       "      <th>4</th>\n",
       "      <td>10236082</td>\n",
       "      <td>Triple Lakes Trail</td>\n",
       "      <td>Denali National Park</td>\n",
       "      <td>Denali National Park</td>\n",
       "      <td>16.92</td>\n",
       "      <td>1124.7120</td>\n",
       "      <td>out and back</td>\n",
       "      <td>['dogs-no', 'lake', 'views', 'wild-flowers', '...</td>\n",
       "      <td>['birding', 'fishing', 'hiking', 'nature-trips...</td>\n",
       "    </tr>\n",
       "    <tr>\n",
       "      <th>...</th>\n",
       "      <td>...</td>\n",
       "      <td>...</td>\n",
       "      <td>...</td>\n",
       "      <td>...</td>\n",
       "      <td>...</td>\n",
       "      <td>...</td>\n",
       "      <td>...</td>\n",
       "      <td>...</td>\n",
       "      <td>...</td>\n",
       "    </tr>\n",
       "    <tr>\n",
       "      <th>3307</th>\n",
       "      <td>10236006</td>\n",
       "      <td>Pa ka'oao Trail (White Hill Trail)</td>\n",
       "      <td>Haleakala National Park</td>\n",
       "      <td>Kula</td>\n",
       "      <td>0.46</td>\n",
       "      <td>32.9184</td>\n",
       "      <td>out and back</td>\n",
       "      <td>['dogs-no', 'kids', 'views']</td>\n",
       "      <td>['hiking', 'walking']</td>\n",
       "    </tr>\n",
       "    <tr>\n",
       "      <th>3308</th>\n",
       "      <td>10008302</td>\n",
       "      <td>Silversword Loop Via Halemau'u Trail</td>\n",
       "      <td>Haleakala National Park</td>\n",
       "      <td>Kula</td>\n",
       "      <td>11.43</td>\n",
       "      <td>1105.8144</td>\n",
       "      <td>loop</td>\n",
       "      <td>['dogs-no', 'views', 'wild-flowers']</td>\n",
       "      <td>['birding', 'hiking', 'nature-trips']</td>\n",
       "    </tr>\n",
       "    <tr>\n",
       "      <th>3309</th>\n",
       "      <td>10236001</td>\n",
       "      <td>Keonehe'ehe'e Trail</td>\n",
       "      <td>Haleakala National Park</td>\n",
       "      <td>Kula</td>\n",
       "      <td>16.09</td>\n",
       "      <td>1171.9560</td>\n",
       "      <td>out and back</td>\n",
       "      <td>['dogs-no', 'views', 'wildlife']</td>\n",
       "      <td>['backpacking', 'camping', 'hiking']</td>\n",
       "    </tr>\n",
       "    <tr>\n",
       "      <th>3310</th>\n",
       "      <td>10258707</td>\n",
       "      <td>Red Hill Overlook Summit Trail</td>\n",
       "      <td>Haleakala National Park</td>\n",
       "      <td>Kula</td>\n",
       "      <td>0.18</td>\n",
       "      <td>3.9624</td>\n",
       "      <td>out and back</td>\n",
       "      <td>['dogs-no', 'kids', 'views']</td>\n",
       "      <td>['hiking', 'walking']</td>\n",
       "    </tr>\n",
       "    <tr>\n",
       "      <th>3311</th>\n",
       "      <td>10014989</td>\n",
       "      <td>Kaupo Trail</td>\n",
       "      <td>Haleakala National Park</td>\n",
       "      <td>Kula</td>\n",
       "      <td>10.97</td>\n",
       "      <td>1670.9136</td>\n",
       "      <td>out and back</td>\n",
       "      <td>['dogs-no', 'views', 'wildlife']</td>\n",
       "      <td>['hiking']</td>\n",
       "    </tr>\n",
       "  </tbody>\n",
       "</table>\n",
       "<p>3294 rows × 9 columns</p>\n",
       "</div>"
      ],
      "text/plain": [
       "      trail_id                                  name  \\\n",
       "0     10020048               Harding Ice Field Trail   \n",
       "1     10236086            Mount Healy Overlook Trail   \n",
       "2     10267857                    Exit Glacier Trail   \n",
       "3     10236076                  Horseshoe Lake Trail   \n",
       "4     10236082                    Triple Lakes Trail   \n",
       "...        ...                                   ...   \n",
       "3307  10236006    Pa ka'oao Trail (White Hill Trail)   \n",
       "3308  10008302  Silversword Loop Via Halemau'u Trail   \n",
       "3309  10236001                   Keonehe'ehe'e Trail   \n",
       "3310  10258707        Red Hill Overlook Summit Trail   \n",
       "3311  10014989                           Kaupo Trail   \n",
       "\n",
       "                       area_name             city_name  length  \\\n",
       "0     Kenai Fjords National Park                Seward    8.87   \n",
       "1           Denali National Park  Denali National Park    3.93   \n",
       "2     Kenai Fjords National Park                Seward    1.65   \n",
       "3           Denali National Park  Denali National Park    1.92   \n",
       "4           Denali National Park  Denali National Park   16.92   \n",
       "...                          ...                   ...     ...   \n",
       "3307     Haleakala National Park                  Kula    0.46   \n",
       "3308     Haleakala National Park                  Kula   11.43   \n",
       "3309     Haleakala National Park                  Kula   16.09   \n",
       "3310     Haleakala National Park                  Kula    0.18   \n",
       "3311     Haleakala National Park                  Kula   10.97   \n",
       "\n",
       "      elevation_gain    route_type  \\\n",
       "0          1161.8976  out and back   \n",
       "1           507.7968  out and back   \n",
       "2            81.9912  out and back   \n",
       "3           119.7864          loop   \n",
       "4          1124.7120  out and back   \n",
       "...              ...           ...   \n",
       "3307         32.9184  out and back   \n",
       "3308       1105.8144          loop   \n",
       "3309       1171.9560  out and back   \n",
       "3310          3.9624  out and back   \n",
       "3311       1670.9136  out and back   \n",
       "\n",
       "                                               features  \\\n",
       "0     ['dogs-no', 'forest', 'river', 'views', 'water...   \n",
       "1     ['dogs-no', 'forest', 'views', 'wild-flowers',...   \n",
       "2     ['dogs-no', 'partially-paved', 'views', 'wildl...   \n",
       "3     ['dogs-no', 'forest', 'lake', 'kids', 'views',...   \n",
       "4     ['dogs-no', 'lake', 'views', 'wild-flowers', '...   \n",
       "...                                                 ...   \n",
       "3307                       ['dogs-no', 'kids', 'views']   \n",
       "3308               ['dogs-no', 'views', 'wild-flowers']   \n",
       "3309                   ['dogs-no', 'views', 'wildlife']   \n",
       "3310                       ['dogs-no', 'kids', 'views']   \n",
       "3311                   ['dogs-no', 'views', 'wildlife']   \n",
       "\n",
       "                                             activities  \n",
       "0     ['birding', 'camping', 'hiking', 'nature-trips...  \n",
       "1     ['birding', 'camping', 'hiking', 'nature-trips...  \n",
       "2                                 ['hiking', 'walking']  \n",
       "3     ['birding', 'hiking', 'nature-trips', 'trail-r...  \n",
       "4     ['birding', 'fishing', 'hiking', 'nature-trips...  \n",
       "...                                                 ...  \n",
       "3307                              ['hiking', 'walking']  \n",
       "3308              ['birding', 'hiking', 'nature-trips']  \n",
       "3309               ['backpacking', 'camping', 'hiking']  \n",
       "3310                              ['hiking', 'walking']  \n",
       "3311                                         ['hiking']  \n",
       "\n",
       "[3294 rows x 9 columns]"
      ]
     },
     "execution_count": 12,
     "metadata": {},
     "output_type": "execute_result"
    }
   ],
   "source": [
    "df_clean.head()\n",
    "#df_clean[['trail_id','name','area_name','city_name','length','elevation_gain','route_type','features','activities']]"
   ]
  },
  {
   "cell_type": "code",
   "execution_count": 11,
   "id": "fee66984",
   "metadata": {},
   "outputs": [
    {
     "data": {
      "text/plain": [
       "(3294, 18)"
      ]
     },
     "execution_count": 11,
     "metadata": {},
     "output_type": "execute_result"
    }
   ],
   "source": [
    "np.shape(df_clean)"
   ]
  },
  {
   "cell_type": "markdown",
   "id": "de1535e1",
   "metadata": {},
   "source": [
    "# Create test input"
   ]
  },
  {
   "cell_type": "code",
   "execution_count": 16,
   "id": "37cec8d9",
   "metadata": {},
   "outputs": [
    {
     "data": {
      "text/html": [
       "<div>\n",
       "<style scoped>\n",
       "    .dataframe tbody tr th:only-of-type {\n",
       "        vertical-align: middle;\n",
       "    }\n",
       "\n",
       "    .dataframe tbody tr th {\n",
       "        vertical-align: top;\n",
       "    }\n",
       "\n",
       "    .dataframe thead th {\n",
       "        text-align: right;\n",
       "    }\n",
       "</style>\n",
       "<table border=\"1\" class=\"dataframe\">\n",
       "  <thead>\n",
       "    <tr style=\"text-align: right;\">\n",
       "      <th></th>\n",
       "      <th>trail_id</th>\n",
       "      <th>name</th>\n",
       "      <th>area_name</th>\n",
       "      <th>city_name</th>\n",
       "      <th>state_name</th>\n",
       "      <th>country_name</th>\n",
       "      <th>_geoloc</th>\n",
       "      <th>popularity</th>\n",
       "      <th>length</th>\n",
       "      <th>elevation_gain</th>\n",
       "      <th>difficulty_rating</th>\n",
       "      <th>route_type</th>\n",
       "      <th>visitor_usage</th>\n",
       "      <th>avg_rating</th>\n",
       "      <th>num_reviews</th>\n",
       "      <th>features</th>\n",
       "      <th>activities</th>\n",
       "      <th>units</th>\n",
       "    </tr>\n",
       "  </thead>\n",
       "  <tbody>\n",
       "    <tr>\n",
       "      <th>1698</th>\n",
       "      <td>10008848</td>\n",
       "      <td>Baxter Creek Trail</td>\n",
       "      <td>Great Smoky Mountains National Park</td>\n",
       "      <td>Waynesville</td>\n",
       "      <td>North Carolina</td>\n",
       "      <td>United States</td>\n",
       "      <td>{'lat': 35.75111, 'lng': -83.10966}</td>\n",
       "      <td>4.9204</td>\n",
       "      <td>25266.638</td>\n",
       "      <td>1522.7808</td>\n",
       "      <td>5</td>\n",
       "      <td>point to point</td>\n",
       "      <td>2.0</td>\n",
       "      <td>4.5</td>\n",
       "      <td>7</td>\n",
       "      <td>['dogs-no', 'forest', 'views', 'wild-flowers']</td>\n",
       "      <td>['birding', 'hiking', 'nature-trips']</td>\n",
       "      <td>i</td>\n",
       "    </tr>\n",
       "    <tr>\n",
       "      <th>2919</th>\n",
       "      <td>10032315</td>\n",
       "      <td>Sunnybrook Meadows Trail</td>\n",
       "      <td>Olympic National Park</td>\n",
       "      <td>Brinnon</td>\n",
       "      <td>Washington</td>\n",
       "      <td>United States</td>\n",
       "      <td>{'lat': 47.72974, 'lng': -123.14179}</td>\n",
       "      <td>3.0804</td>\n",
       "      <td>26393.176</td>\n",
       "      <td>2102.8152</td>\n",
       "      <td>7</td>\n",
       "      <td>out and back</td>\n",
       "      <td>2.0</td>\n",
       "      <td>5.0</td>\n",
       "      <td>1</td>\n",
       "      <td>['dogs-no', 'views', 'wild-flowers', 'wildlife']</td>\n",
       "      <td>['backpacking', 'birding', 'camping', 'hiking'...</td>\n",
       "      <td>i</td>\n",
       "    </tr>\n",
       "    <tr>\n",
       "      <th>224</th>\n",
       "      <td>10027503</td>\n",
       "      <td>Clouds Rest Trail via Tenaya Lake</td>\n",
       "      <td>Yosemite National Park</td>\n",
       "      <td>Yosemite Valley</td>\n",
       "      <td>California</td>\n",
       "      <td>United States</td>\n",
       "      <td>{'lat': 37.82585, 'lng': -119.47046}</td>\n",
       "      <td>38.5795</td>\n",
       "      <td>19794.882</td>\n",
       "      <td>948.8424</td>\n",
       "      <td>5</td>\n",
       "      <td>out and back</td>\n",
       "      <td>3.0</td>\n",
       "      <td>5.0</td>\n",
       "      <td>685</td>\n",
       "      <td>['dogs-no', 'forest', 'lake', 'views', 'wild-f...</td>\n",
       "      <td>['backpacking', 'birding', 'camping', 'hiking'...</td>\n",
       "      <td>i</td>\n",
       "    </tr>\n",
       "  </tbody>\n",
       "</table>\n",
       "</div>"
      ],
      "text/plain": [
       "      trail_id                               name  \\\n",
       "1698  10008848                 Baxter Creek Trail   \n",
       "2919  10032315           Sunnybrook Meadows Trail   \n",
       "224   10027503  Clouds Rest Trail via Tenaya Lake   \n",
       "\n",
       "                                area_name        city_name      state_name  \\\n",
       "1698  Great Smoky Mountains National Park      Waynesville  North Carolina   \n",
       "2919                Olympic National Park          Brinnon      Washington   \n",
       "224                Yosemite National Park  Yosemite Valley      California   \n",
       "\n",
       "       country_name                               _geoloc  popularity  \\\n",
       "1698  United States   {'lat': 35.75111, 'lng': -83.10966}      4.9204   \n",
       "2919  United States  {'lat': 47.72974, 'lng': -123.14179}      3.0804   \n",
       "224   United States  {'lat': 37.82585, 'lng': -119.47046}     38.5795   \n",
       "\n",
       "         length  elevation_gain  difficulty_rating      route_type  \\\n",
       "1698  25266.638       1522.7808                  5  point to point   \n",
       "2919  26393.176       2102.8152                  7    out and back   \n",
       "224   19794.882        948.8424                  5    out and back   \n",
       "\n",
       "      visitor_usage  avg_rating  num_reviews  \\\n",
       "1698            2.0         4.5            7   \n",
       "2919            2.0         5.0            1   \n",
       "224             3.0         5.0          685   \n",
       "\n",
       "                                               features  \\\n",
       "1698     ['dogs-no', 'forest', 'views', 'wild-flowers']   \n",
       "2919   ['dogs-no', 'views', 'wild-flowers', 'wildlife']   \n",
       "224   ['dogs-no', 'forest', 'lake', 'views', 'wild-f...   \n",
       "\n",
       "                                             activities units  \n",
       "1698              ['birding', 'hiking', 'nature-trips']     i  \n",
       "2919  ['backpacking', 'birding', 'camping', 'hiking'...     i  \n",
       "224   ['backpacking', 'birding', 'camping', 'hiking'...     i  "
      ]
     },
     "execution_count": 16,
     "metadata": {},
     "output_type": "execute_result"
    }
   ],
   "source": [
    "data_subset = df.sample(3, random_state=0)\n",
    "data_subset"
   ]
  },
  {
   "cell_type": "code",
   "execution_count": 17,
   "id": "0ff42c2f",
   "metadata": {},
   "outputs": [
    {
     "data": {
      "text/plain": [
       "array([[10008848, 'Baxter Creek Trail',\n",
       "        'Great Smoky Mountains National Park', 'Waynesville',\n",
       "        'North Carolina', 'United States',\n",
       "        \"{'lat': 35.75111, 'lng': -83.10966}\", 4.9204, 25266.638,\n",
       "        1522.7808, 5, 'point to point', 2.0, 4.5, 7,\n",
       "        \"['dogs-no', 'forest', 'views', 'wild-flowers']\",\n",
       "        \"['birding', 'hiking', 'nature-trips']\", 'i'],\n",
       "       [10032315, 'Sunnybrook Meadows Trail', 'Olympic National Park',\n",
       "        'Brinnon', 'Washington', 'United States',\n",
       "        \"{'lat': 47.72974, 'lng': -123.14179}\", 3.0804, 26393.176,\n",
       "        2102.8152, 7, 'out and back', 2.0, 5.0, 1,\n",
       "        \"['dogs-no', 'views', 'wild-flowers', 'wildlife']\",\n",
       "        \"['backpacking', 'birding', 'camping', 'hiking', 'nature-trips']\",\n",
       "        'i'],\n",
       "       [10027503, 'Clouds Rest Trail via Tenaya Lake',\n",
       "        'Yosemite National Park', 'Yosemite Valley', 'California',\n",
       "        'United States', \"{'lat': 37.82585, 'lng': -119.47046}\", 38.5795,\n",
       "        19794.882, 948.8424, 5, 'out and back', 3.0, 5.0, 685,\n",
       "        \"['dogs-no', 'forest', 'lake', 'views', 'wild-flowers', 'wildlife']\",\n",
       "        \"['backpacking', 'birding', 'camping', 'hiking', 'nature-trips', 'trail-running', 'horseback-riding']\",\n",
       "        'i']], dtype=object)"
      ]
     },
     "execution_count": 17,
     "metadata": {},
     "output_type": "execute_result"
    }
   ],
   "source": [
    "data_subset.values"
   ]
  },
  {
   "cell_type": "code",
   "execution_count": 18,
   "id": "fafb470d",
   "metadata": {},
   "outputs": [
    {
     "data": {
      "text/plain": [
       "Int64Index([1698, 2919, 224], dtype='int64')"
      ]
     },
     "execution_count": 18,
     "metadata": {},
     "output_type": "execute_result"
    }
   ],
   "source": [
    "data_subset.index"
   ]
  },
  {
   "cell_type": "code",
   "execution_count": 19,
   "id": "e008be0c",
   "metadata": {},
   "outputs": [
    {
     "data": {
      "text/plain": [
       "Index(['trail_id', 'name', 'area_name', 'city_name', 'state_name',\n",
       "       'country_name', '_geoloc', 'popularity', 'length', 'elevation_gain',\n",
       "       'difficulty_rating', 'route_type', 'visitor_usage', 'avg_rating',\n",
       "       'num_reviews', 'features', 'activities', 'units'],\n",
       "      dtype='object')"
      ]
     },
     "execution_count": 19,
     "metadata": {},
     "output_type": "execute_result"
    }
   ],
   "source": [
    "data_subset.columns"
   ]
  },
  {
   "cell_type": "code",
   "execution_count": 20,
   "id": "faa7df7d",
   "metadata": {},
   "outputs": [],
   "source": [
    "data_subset.index.name"
   ]
  },
  {
   "cell_type": "code",
   "execution_count": 21,
   "id": "e108c609",
   "metadata": {},
   "outputs": [],
   "source": [
    "data_subset.columns.name"
   ]
  },
  {
   "cell_type": "code",
   "execution_count": 22,
   "id": "a1252348",
   "metadata": {},
   "outputs": [],
   "source": [
    "df_in_values = [[10008848, 'Baxter Creek Trail',\n",
    "        'Great Smoky Mountains National Park', 'Waynesville',\n",
    "        'North Carolina', 'United States',\n",
    "        \"{'lat': 35.75111, 'lng': -83.10966}\", 4.9204, 25266.638,\n",
    "        1522.7808, 5, 'point to point', 2.0, 4.5, 7,\n",
    "        \"['dogs-no', 'forest', 'views', 'wild-flowers']\",\n",
    "        \"['birding', 'hiking', 'nature-trips']\", 'i'],\n",
    "       [10032315, 'Sunnybrook Meadows Trail', 'Olympic National Park',\n",
    "        'Brinnon', 'Washington', 'United States',\n",
    "        \"{'lat': 47.72974, 'lng': -123.14179}\", 3.0804, 26393.176,\n",
    "        2102.8152, 7, 'out and back', 2.0, 5.0, 1,\n",
    "        \"['dogs-no', 'views', 'wild-flowers', 'wildlife']\",\n",
    "        \"['backpacking', 'birding', 'camping', 'hiking', 'nature-trips']\",\n",
    "        'i'],\n",
    "       [10027503, 'Clouds Rest Trail via Tenaya Lake',\n",
    "        'Yosemite National Park', 'Yosemite Valley', 'California',\n",
    "        'United States', \"{'lat': 37.82585, 'lng': -119.47046}\", 38.5795,\n",
    "        19794.882, 948.8424, 5, 'out and back', 3.0, 5.0, 685,\n",
    "        \"['dogs-no', 'forest', 'lake', 'views', 'wild-flowers', 'wildlife']\",\n",
    "        \"['backpacking', 'birding', 'camping', 'hiking', 'nature-trips', 'trail-running', 'horseback-riding']\",\n",
    "        'i']]\n",
    "df_in_index = [1698, 2919, 224]\n",
    "df_in_columns = ['trail_id', 'name', 'area_name', 'city_name', 'state_name',\n",
    "       'country_name', '_geoloc', 'popularity', 'length', 'elevation_gain',\n",
    "       'difficulty_rating', 'route_type', 'visitor_usage', 'avg_rating',\n",
    "       'num_reviews', 'features', 'activities', 'units']\n",
    "df_in = pd.DataFrame(df_in_values, index=df_in_index, columns=df_in_columns)"
   ]
  },
  {
   "cell_type": "code",
   "execution_count": 23,
   "id": "fa65b005",
   "metadata": {},
   "outputs": [
    {
     "data": {
      "text/plain": [
       "True"
      ]
     },
     "execution_count": 23,
     "metadata": {},
     "output_type": "execute_result"
    }
   ],
   "source": [
    "df_in.equals(data_subset)"
   ]
  },
  {
   "cell_type": "markdown",
   "id": "e20f1cbc",
   "metadata": {},
   "source": [
    "## Create tests for `yards_to_miles()`"
   ]
  },
  {
   "cell_type": "code",
   "execution_count": 24,
   "id": "eb2e5f14",
   "metadata": {},
   "outputs": [
    {
     "data": {
      "text/html": [
       "<div>\n",
       "<style scoped>\n",
       "    .dataframe tbody tr th:only-of-type {\n",
       "        vertical-align: middle;\n",
       "    }\n",
       "\n",
       "    .dataframe tbody tr th {\n",
       "        vertical-align: top;\n",
       "    }\n",
       "\n",
       "    .dataframe thead th {\n",
       "        text-align: right;\n",
       "    }\n",
       "</style>\n",
       "<table border=\"1\" class=\"dataframe\">\n",
       "  <thead>\n",
       "    <tr style=\"text-align: right;\">\n",
       "      <th></th>\n",
       "      <th>trail_id</th>\n",
       "      <th>name</th>\n",
       "      <th>area_name</th>\n",
       "      <th>city_name</th>\n",
       "      <th>state_name</th>\n",
       "      <th>country_name</th>\n",
       "      <th>_geoloc</th>\n",
       "      <th>popularity</th>\n",
       "      <th>length</th>\n",
       "      <th>elevation_gain</th>\n",
       "      <th>difficulty_rating</th>\n",
       "      <th>route_type</th>\n",
       "      <th>visitor_usage</th>\n",
       "      <th>avg_rating</th>\n",
       "      <th>num_reviews</th>\n",
       "      <th>features</th>\n",
       "      <th>activities</th>\n",
       "      <th>units</th>\n",
       "    </tr>\n",
       "  </thead>\n",
       "  <tbody>\n",
       "    <tr>\n",
       "      <th>1698</th>\n",
       "      <td>10008848</td>\n",
       "      <td>Baxter Creek Trail</td>\n",
       "      <td>Great Smoky Mountains National Park</td>\n",
       "      <td>Waynesville</td>\n",
       "      <td>North Carolina</td>\n",
       "      <td>United States</td>\n",
       "      <td>{'lat': 35.75111, 'lng': -83.10966}</td>\n",
       "      <td>4.9204</td>\n",
       "      <td>14.36</td>\n",
       "      <td>1522.7808</td>\n",
       "      <td>5</td>\n",
       "      <td>point to point</td>\n",
       "      <td>2.0</td>\n",
       "      <td>4.5</td>\n",
       "      <td>7</td>\n",
       "      <td>['dogs-no', 'forest', 'views', 'wild-flowers']</td>\n",
       "      <td>['birding', 'hiking', 'nature-trips']</td>\n",
       "      <td>i</td>\n",
       "    </tr>\n",
       "    <tr>\n",
       "      <th>2919</th>\n",
       "      <td>10032315</td>\n",
       "      <td>Sunnybrook Meadows Trail</td>\n",
       "      <td>Olympic National Park</td>\n",
       "      <td>Brinnon</td>\n",
       "      <td>Washington</td>\n",
       "      <td>United States</td>\n",
       "      <td>{'lat': 47.72974, 'lng': -123.14179}</td>\n",
       "      <td>3.0804</td>\n",
       "      <td>15.00</td>\n",
       "      <td>2102.8152</td>\n",
       "      <td>7</td>\n",
       "      <td>out and back</td>\n",
       "      <td>2.0</td>\n",
       "      <td>5.0</td>\n",
       "      <td>1</td>\n",
       "      <td>['dogs-no', 'views', 'wild-flowers', 'wildlife']</td>\n",
       "      <td>['backpacking', 'birding', 'camping', 'hiking'...</td>\n",
       "      <td>i</td>\n",
       "    </tr>\n",
       "    <tr>\n",
       "      <th>224</th>\n",
       "      <td>10027503</td>\n",
       "      <td>Clouds Rest Trail via Tenaya Lake</td>\n",
       "      <td>Yosemite National Park</td>\n",
       "      <td>Yosemite Valley</td>\n",
       "      <td>California</td>\n",
       "      <td>United States</td>\n",
       "      <td>{'lat': 37.82585, 'lng': -119.47046}</td>\n",
       "      <td>38.5795</td>\n",
       "      <td>11.25</td>\n",
       "      <td>948.8424</td>\n",
       "      <td>5</td>\n",
       "      <td>out and back</td>\n",
       "      <td>3.0</td>\n",
       "      <td>5.0</td>\n",
       "      <td>685</td>\n",
       "      <td>['dogs-no', 'forest', 'lake', 'views', 'wild-f...</td>\n",
       "      <td>['backpacking', 'birding', 'camping', 'hiking'...</td>\n",
       "      <td>i</td>\n",
       "    </tr>\n",
       "  </tbody>\n",
       "</table>\n",
       "</div>"
      ],
      "text/plain": [
       "      trail_id                               name  \\\n",
       "1698  10008848                 Baxter Creek Trail   \n",
       "2919  10032315           Sunnybrook Meadows Trail   \n",
       "224   10027503  Clouds Rest Trail via Tenaya Lake   \n",
       "\n",
       "                                area_name        city_name      state_name  \\\n",
       "1698  Great Smoky Mountains National Park      Waynesville  North Carolina   \n",
       "2919                Olympic National Park          Brinnon      Washington   \n",
       "224                Yosemite National Park  Yosemite Valley      California   \n",
       "\n",
       "       country_name                               _geoloc  popularity  length  \\\n",
       "1698  United States   {'lat': 35.75111, 'lng': -83.10966}      4.9204   14.36   \n",
       "2919  United States  {'lat': 47.72974, 'lng': -123.14179}      3.0804   15.00   \n",
       "224   United States  {'lat': 37.82585, 'lng': -119.47046}     38.5795   11.25   \n",
       "\n",
       "      elevation_gain  difficulty_rating      route_type  visitor_usage  \\\n",
       "1698       1522.7808                  5  point to point            2.0   \n",
       "2919       2102.8152                  7    out and back            2.0   \n",
       "224         948.8424                  5    out and back            3.0   \n",
       "\n",
       "      avg_rating  num_reviews  \\\n",
       "1698         4.5            7   \n",
       "2919         5.0            1   \n",
       "224          5.0          685   \n",
       "\n",
       "                                               features  \\\n",
       "1698     ['dogs-no', 'forest', 'views', 'wild-flowers']   \n",
       "2919   ['dogs-no', 'views', 'wild-flowers', 'wildlife']   \n",
       "224   ['dogs-no', 'forest', 'lake', 'views', 'wild-f...   \n",
       "\n",
       "                                             activities units  \n",
       "1698              ['birding', 'hiking', 'nature-trips']     i  \n",
       "2919  ['backpacking', 'birding', 'camping', 'hiking'...     i  \n",
       "224   ['backpacking', 'birding', 'camping', 'hiking'...     i  "
      ]
     },
     "execution_count": 24,
     "metadata": {},
     "output_type": "execute_result"
    }
   ],
   "source": [
    "df_out = yards_to_miles(df_in, 'length', 2)\n",
    "df_out"
   ]
  },
  {
   "cell_type": "code",
   "execution_count": 26,
   "id": "f69cbe72",
   "metadata": {},
   "outputs": [
    {
     "data": {
      "text/plain": [
       "array([[10008848, 'Baxter Creek Trail',\n",
       "        'Great Smoky Mountains National Park', 'Waynesville',\n",
       "        'North Carolina', 'United States',\n",
       "        \"{'lat': 35.75111, 'lng': -83.10966}\", 4.9204, 14.36, 1522.7808,\n",
       "        5, 'point to point', 2.0, 4.5, 7,\n",
       "        \"['dogs-no', 'forest', 'views', 'wild-flowers']\",\n",
       "        \"['birding', 'hiking', 'nature-trips']\", 'i'],\n",
       "       [10032315, 'Sunnybrook Meadows Trail', 'Olympic National Park',\n",
       "        'Brinnon', 'Washington', 'United States',\n",
       "        \"{'lat': 47.72974, 'lng': -123.14179}\", 3.0804, 15.0, 2102.8152,\n",
       "        7, 'out and back', 2.0, 5.0, 1,\n",
       "        \"['dogs-no', 'views', 'wild-flowers', 'wildlife']\",\n",
       "        \"['backpacking', 'birding', 'camping', 'hiking', 'nature-trips']\",\n",
       "        'i'],\n",
       "       [10027503, 'Clouds Rest Trail via Tenaya Lake',\n",
       "        'Yosemite National Park', 'Yosemite Valley', 'California',\n",
       "        'United States', \"{'lat': 37.82585, 'lng': -119.47046}\", 38.5795,\n",
       "        11.25, 948.8424, 5, 'out and back', 3.0, 5.0, 685,\n",
       "        \"['dogs-no', 'forest', 'lake', 'views', 'wild-flowers', 'wildlife']\",\n",
       "        \"['backpacking', 'birding', 'camping', 'hiking', 'nature-trips', 'trail-running', 'horseback-riding']\",\n",
       "        'i']], dtype=object)"
      ]
     },
     "execution_count": 26,
     "metadata": {},
     "output_type": "execute_result"
    }
   ],
   "source": [
    "df_out.values"
   ]
  },
  {
   "cell_type": "code",
   "execution_count": 27,
   "id": "ebac8995",
   "metadata": {},
   "outputs": [
    {
     "data": {
      "text/plain": [
       "Int64Index([1698, 2919, 224], dtype='int64')"
      ]
     },
     "execution_count": 27,
     "metadata": {},
     "output_type": "execute_result"
    }
   ],
   "source": [
    "df_out.index"
   ]
  },
  {
   "cell_type": "code",
   "execution_count": 28,
   "id": "b66cb010",
   "metadata": {},
   "outputs": [
    {
     "data": {
      "text/plain": [
       "Index(['trail_id', 'name', 'area_name', 'city_name', 'state_name',\n",
       "       'country_name', '_geoloc', 'popularity', 'length', 'elevation_gain',\n",
       "       'difficulty_rating', 'route_type', 'visitor_usage', 'avg_rating',\n",
       "       'num_reviews', 'features', 'activities', 'units'],\n",
       "      dtype='object')"
      ]
     },
     "execution_count": 28,
     "metadata": {},
     "output_type": "execute_result"
    }
   ],
   "source": [
    "df_out.columns"
   ]
  },
  {
   "cell_type": "code",
   "execution_count": 29,
   "id": "1a9409a5",
   "metadata": {},
   "outputs": [],
   "source": [
    "df_out.columns.name"
   ]
  },
  {
   "cell_type": "code",
   "execution_count": 30,
   "id": "0c9a53d3",
   "metadata": {},
   "outputs": [],
   "source": [
    "df_out.index.name"
   ]
  },
  {
   "cell_type": "code",
   "execution_count": 34,
   "id": "163479da",
   "metadata": {},
   "outputs": [],
   "source": [
    "df_true = pd.DataFrame(\n",
    "    [[10008848, 'Baxter Creek Trail',\n",
    "        'Great Smoky Mountains National Park', 'Waynesville',\n",
    "        'North Carolina', 'United States',\n",
    "        \"{'lat': 35.75111, 'lng': -83.10966}\", 4.9204, 14.36, 1522.7808,\n",
    "        5, 'point to point', 2.0, 4.5, 7,\n",
    "        \"['dogs-no', 'forest', 'views', 'wild-flowers']\",\n",
    "        \"['birding', 'hiking', 'nature-trips']\", 'i'],\n",
    "       [10032315, 'Sunnybrook Meadows Trail', 'Olympic National Park',\n",
    "        'Brinnon', 'Washington', 'United States',\n",
    "        \"{'lat': 47.72974, 'lng': -123.14179}\", 3.0804, 15.0, 2102.8152,\n",
    "        7, 'out and back', 2.0, 5.0, 1,\n",
    "        \"['dogs-no', 'views', 'wild-flowers', 'wildlife']\",\n",
    "        \"['backpacking', 'birding', 'camping', 'hiking', 'nature-trips']\",\n",
    "        'i'],\n",
    "       [10027503, 'Clouds Rest Trail via Tenaya Lake',\n",
    "        'Yosemite National Park', 'Yosemite Valley', 'California',\n",
    "        'United States', \"{'lat': 37.82585, 'lng': -119.47046}\", 38.5795,\n",
    "        11.25, 948.8424, 5, 'out and back', 3.0, 5.0, 685,\n",
    "        \"['dogs-no', 'forest', 'lake', 'views', 'wild-flowers', 'wildlife']\",\n",
    "        \"['backpacking', 'birding', 'camping', 'hiking', 'nature-trips', 'trail-running', 'horseback-riding']\",\n",
    "        'i']],\n",
    "index=[1698, 2919, 224],\n",
    "columns=['trail_id', 'name', 'area_name', 'city_name', 'state_name',\n",
    "       'country_name', '_geoloc', 'popularity', 'length', 'elevation_gain',\n",
    "       'difficulty_rating', 'route_type', 'visitor_usage', 'avg_rating',\n",
    "       'num_reviews', 'features', 'activities', 'units'])"
   ]
  },
  {
   "cell_type": "code",
   "execution_count": 35,
   "id": "a76fbc68",
   "metadata": {},
   "outputs": [
    {
     "data": {
      "text/plain": [
       "True"
      ]
     },
     "execution_count": 35,
     "metadata": {},
     "output_type": "execute_result"
    }
   ],
   "source": [
    "df_true.equals(df_out)"
   ]
  },
  {
   "cell_type": "code",
   "execution_count": 36,
   "id": "b2467e68",
   "metadata": {},
   "outputs": [],
   "source": [
    "def test_yards_to_miles():\n",
    "    # Define input dataframe\n",
    "    df_in_values = [[10008848, 'Baxter Creek Trail',\n",
    "        'Great Smoky Mountains National Park', 'Waynesville',\n",
    "        'North Carolina', 'United States',\n",
    "        \"{'lat': 35.75111, 'lng': -83.10966}\", 4.9204, 25266.638,\n",
    "        1522.7808, 5, 'point to point', 2.0, 4.5, 7,\n",
    "        \"['dogs-no', 'forest', 'views', 'wild-flowers']\",\n",
    "        \"['birding', 'hiking', 'nature-trips']\", 'i'],\n",
    "       [10032315, 'Sunnybrook Meadows Trail', 'Olympic National Park',\n",
    "        'Brinnon', 'Washington', 'United States',\n",
    "        \"{'lat': 47.72974, 'lng': -123.14179}\", 3.0804, 26393.176,\n",
    "        2102.8152, 7, 'out and back', 2.0, 5.0, 1,\n",
    "        \"['dogs-no', 'views', 'wild-flowers', 'wildlife']\",\n",
    "        \"['backpacking', 'birding', 'camping', 'hiking', 'nature-trips']\",\n",
    "        'i'],\n",
    "       [10027503, 'Clouds Rest Trail via Tenaya Lake',\n",
    "        'Yosemite National Park', 'Yosemite Valley', 'California',\n",
    "        'United States', \"{'lat': 37.82585, 'lng': -119.47046}\", 38.5795,\n",
    "        19794.882, 948.8424, 5, 'out and back', 3.0, 5.0, 685,\n",
    "        \"['dogs-no', 'forest', 'lake', 'views', 'wild-flowers', 'wildlife']\",\n",
    "        \"['backpacking', 'birding', 'camping', 'hiking', 'nature-trips', 'trail-running', 'horseback-riding']\",\n",
    "        'i']]\n",
    "    df_in_index = [1698, 2919, 224]\n",
    "    df_in_columns = ['trail_id', 'name', 'area_name', 'city_name', 'state_name',\n",
    "           'country_name', '_geoloc', 'popularity', 'length', 'elevation_gain',\n",
    "           'difficulty_rating', 'route_type', 'visitor_usage', 'avg_rating',\n",
    "           'num_reviews', 'features', 'activities', 'units']\n",
    "    df_in = pd.DataFrame(df_in_values, index=df_in_index, columns=df_in_columns)\n",
    "    \n",
    "    # Define expected output\n",
    "    df_true = pd.DataFrame(\n",
    "    [[10008848, 'Baxter Creek Trail',\n",
    "        'Great Smoky Mountains National Park', 'Waynesville',\n",
    "        'North Carolina', 'United States',\n",
    "        \"{'lat': 35.75111, 'lng': -83.10966}\", 4.9204, 14.36, 1522.7808,\n",
    "        5, 'point to point', 2.0, 4.5, 7,\n",
    "        \"['dogs-no', 'forest', 'views', 'wild-flowers']\",\n",
    "        \"['birding', 'hiking', 'nature-trips']\", 'i'],\n",
    "       [10032315, 'Sunnybrook Meadows Trail', 'Olympic National Park',\n",
    "        'Brinnon', 'Washington', 'United States',\n",
    "        \"{'lat': 47.72974, 'lng': -123.14179}\", 3.0804, 15.0, 2102.8152,\n",
    "        7, 'out and back', 2.0, 5.0, 1,\n",
    "        \"['dogs-no', 'views', 'wild-flowers', 'wildlife']\",\n",
    "        \"['backpacking', 'birding', 'camping', 'hiking', 'nature-trips']\",\n",
    "        'i'],\n",
    "       [10027503, 'Clouds Rest Trail via Tenaya Lake',\n",
    "        'Yosemite National Park', 'Yosemite Valley', 'California',\n",
    "        'United States', \"{'lat': 37.82585, 'lng': -119.47046}\", 38.5795,\n",
    "        11.25, 948.8424, 5, 'out and back', 3.0, 5.0, 685,\n",
    "        \"['dogs-no', 'forest', 'lake', 'views', 'wild-flowers', 'wildlife']\",\n",
    "        \"['backpacking', 'birding', 'camping', 'hiking', 'nature-trips', 'trail-running', 'horseback-riding']\",\n",
    "        'i']],\n",
    "    index=[1698, 2919, 224],\n",
    "    columns=['trail_id', 'name', 'area_name', 'city_name', 'state_name',\n",
    "           'country_name', '_geoloc', 'popularity', 'length', 'elevation_gain',\n",
    "           'difficulty_rating', 'route_type', 'visitor_usage', 'avg_rating',\n",
    "           'num_reviews', 'features', 'activities', 'units'])\n",
    "    \n",
    "    # Create test output\n",
    "    df_test = yards_to_miles(df_in, 'length', 2)\n",
    "    \n",
    "    assert df_test.equals(df_true)"
   ]
  },
  {
   "cell_type": "code",
   "execution_count": 38,
   "id": "bb6d43e3",
   "metadata": {},
   "outputs": [],
   "source": [
    "test_yards_to_miles()"
   ]
  },
  {
   "cell_type": "markdown",
   "id": "341e0567",
   "metadata": {},
   "source": [
    "Unhappy path: feature doesn't exsist"
   ]
  },
  {
   "cell_type": "code",
   "execution_count": 40,
   "id": "c51c922c",
   "metadata": {},
   "outputs": [],
   "source": [
    "def test_yards_to_miles_key_error():\n",
    "    # Define input dataframe\n",
    "    df_in_values = [[10008848, 'Baxter Creek Trail',\n",
    "        'Great Smoky Mountains National Park', 'Waynesville',\n",
    "        'North Carolina', 'United States',\n",
    "        \"{'lat': 35.75111, 'lng': -83.10966}\", 4.9204, 25266.638,\n",
    "        1522.7808, 5, 'point to point', 2.0, 4.5, 7,\n",
    "        \"['dogs-no', 'forest', 'views', 'wild-flowers']\",\n",
    "        \"['birding', 'hiking', 'nature-trips']\", 'i'],\n",
    "       [10032315, 'Sunnybrook Meadows Trail', 'Olympic National Park',\n",
    "        'Brinnon', 'Washington', 'United States',\n",
    "        \"{'lat': 47.72974, 'lng': -123.14179}\", 3.0804, 26393.176,\n",
    "        2102.8152, 7, 'out and back', 2.0, 5.0, 1,\n",
    "        \"['dogs-no', 'views', 'wild-flowers', 'wildlife']\",\n",
    "        \"['backpacking', 'birding', 'camping', 'hiking', 'nature-trips']\",\n",
    "        'i'],\n",
    "       [10027503, 'Clouds Rest Trail via Tenaya Lake',\n",
    "        'Yosemite National Park', 'Yosemite Valley', 'California',\n",
    "        'United States', \"{'lat': 37.82585, 'lng': -119.47046}\", 38.5795,\n",
    "        19794.882, 948.8424, 5, 'out and back', 3.0, 5.0, 685,\n",
    "        \"['dogs-no', 'forest', 'lake', 'views', 'wild-flowers', 'wildlife']\",\n",
    "        \"['backpacking', 'birding', 'camping', 'hiking', 'nature-trips', 'trail-running', 'horseback-riding']\",\n",
    "        'i']]\n",
    "    df_in_index = [1698, 2919, 224]\n",
    "    df_in_columns = ['trail_id', 'name', 'area_name', 'city_name', 'state_name',\n",
    "           'country_name', '_geoloc', 'popularity', 'length', 'elevation_gain',\n",
    "           'difficulty_rating', 'route_type', 'visitor_usage', 'avg_rating',\n",
    "           'num_reviews', 'features', 'activities', 'units']\n",
    "    df_in = pd.DataFrame(df_in_values, index=df_in_index, columns=df_in_columns)\n",
    "    \n",
    "    # Define expected output\n",
    "    with pytest.raises(KeyError):\n",
    "        yards_to_miles(df_in, 'error', 2)"
   ]
  },
  {
   "cell_type": "code",
   "execution_count": 43,
   "id": "0c1b0487",
   "metadata": {},
   "outputs": [],
   "source": [
    "test_yards_to_miles_key_error()"
   ]
  },
  {
   "cell_type": "markdown",
   "id": "2fce9195",
   "metadata": {},
   "source": [
    "Unhappy path: not a dataframe"
   ]
  },
  {
   "cell_type": "code",
   "execution_count": 45,
   "id": "1c5078c9",
   "metadata": {},
   "outputs": [],
   "source": [
    "def test_yards_to_miles_non_df():\n",
    "    df_in = 'I am not a dataframe'\n",
    "    \n",
    "    with pytest.raises(TypeError):\n",
    "        yards_to_miles(df_in, 'length', 2)"
   ]
  },
  {
   "cell_type": "code",
   "execution_count": 46,
   "id": "cc628c21",
   "metadata": {},
   "outputs": [],
   "source": [
    "test_multiply_feature_non_df()"
   ]
  },
  {
   "cell_type": "markdown",
   "id": "a5822bdd",
   "metadata": {},
   "source": [
    "## Create tests for `df_drop_str()`"
   ]
  },
  {
   "cell_type": "code",
   "execution_count": 49,
   "id": "a7f37819",
   "metadata": {},
   "outputs": [],
   "source": [
    "df_in_values = [[10008848, 'Baxter Creek Trail',\n",
    "        'Great Smoky Mountains National Park', 'Waynesville',\n",
    "        'North Carolina', 'United States',\n",
    "        \"{'lat': 35.75111, 'lng': -83.10966}\", 4.9204, 25266.638,\n",
    "        1522.7808, 5, 'point to point', 2.0, 4.5, 7,\n",
    "        \"['dogs-no', 'forest', 'views', 'wild-flowers']\",\n",
    "        \"['birding', 'hiking', 'nature-trips']\", 'i'],\n",
    "       [10032315, 'Sunnybrook Meadows Trail', 'Olympic National Park',\n",
    "        'Brinnon', 'Washington', 'United States',\n",
    "        \"{'lat': 47.72974, 'lng': -123.14179}\", 3.0804, 26393.176,\n",
    "        2102.8152, 7, 'out and back', 2.0, 5.0, 1,\n",
    "        \"['dogs-no', 'views', 'wild-flowers', 'wildlife']\",\n",
    "        \"['backpacking', 'birding', 'camping', 'hiking', 'nature-trips']\",\n",
    "        'i'],\n",
    "       [10027503, 'Clouds Rest Trail via Tenaya Lake',\n",
    "        'Yosemite National Park', 'Yosemite Valley', 'California',\n",
    "        'United States', \"{'lat': 37.82585, 'lng': -119.47046}\", 38.5795,\n",
    "        19794.882, 948.8424, 5, 'out and back', 3.0, 5.0, 685,\n",
    "        \"['dogs-no', 'forest', 'lake', 'views', 'wild-flowers', 'wildlife']\",\n",
    "        \"['backpacking', 'birding', 'camping', 'hiking', 'nature-trips', 'trail-running', 'horseback-riding']\",\n",
    "        'i']]\n",
    "df_in_index = [1698, 2919, 224]\n",
    "df_in_columns = ['trail_id', 'name', 'area_name', 'city_name', 'state_name',\n",
    "       'country_name', '_geoloc', 'popularity', 'length', 'elevation_gain',\n",
    "       'difficulty_rating', 'route_type', 'visitor_usage', 'avg_rating',\n",
    "       'num_reviews', 'features', 'activities', 'units']\n",
    "df_in = pd.DataFrame(df_in_values, index=df_in_index, columns=df_in_columns)"
   ]
  },
  {
   "cell_type": "code",
   "execution_count": 50,
   "id": "d18b8126",
   "metadata": {},
   "outputs": [
    {
     "data": {
      "text/html": [
       "<div>\n",
       "<style scoped>\n",
       "    .dataframe tbody tr th:only-of-type {\n",
       "        vertical-align: middle;\n",
       "    }\n",
       "\n",
       "    .dataframe tbody tr th {\n",
       "        vertical-align: top;\n",
       "    }\n",
       "\n",
       "    .dataframe thead th {\n",
       "        text-align: right;\n",
       "    }\n",
       "</style>\n",
       "<table border=\"1\" class=\"dataframe\">\n",
       "  <thead>\n",
       "    <tr style=\"text-align: right;\">\n",
       "      <th></th>\n",
       "      <th>trail_id</th>\n",
       "      <th>name</th>\n",
       "      <th>area_name</th>\n",
       "      <th>city_name</th>\n",
       "      <th>state_name</th>\n",
       "      <th>country_name</th>\n",
       "      <th>_geoloc</th>\n",
       "      <th>popularity</th>\n",
       "      <th>length</th>\n",
       "      <th>elevation_gain</th>\n",
       "      <th>difficulty_rating</th>\n",
       "      <th>route_type</th>\n",
       "      <th>visitor_usage</th>\n",
       "      <th>avg_rating</th>\n",
       "      <th>num_reviews</th>\n",
       "      <th>features</th>\n",
       "      <th>activities</th>\n",
       "      <th>units</th>\n",
       "    </tr>\n",
       "  </thead>\n",
       "  <tbody>\n",
       "    <tr>\n",
       "      <th>1698</th>\n",
       "      <td>10008848</td>\n",
       "      <td>Baxter Creek Trail</td>\n",
       "      <td>Great Smoky Mountains National Park</td>\n",
       "      <td>Waynesville</td>\n",
       "      <td>North Carolina</td>\n",
       "      <td>United States</td>\n",
       "      <td>{'lat': 35.75111, 'lng': -83.10966}</td>\n",
       "      <td>4.9204</td>\n",
       "      <td>25266.638</td>\n",
       "      <td>1522.7808</td>\n",
       "      <td>5</td>\n",
       "      <td>point to point</td>\n",
       "      <td>2.0</td>\n",
       "      <td>4.5</td>\n",
       "      <td>7</td>\n",
       "      <td>['dogs-no', 'forest', 'views', 'wild-flowers']</td>\n",
       "      <td>['birding', 'hiking', 'nature-trips']</td>\n",
       "      <td>i</td>\n",
       "    </tr>\n",
       "    <tr>\n",
       "      <th>2919</th>\n",
       "      <td>10032315</td>\n",
       "      <td>Sunnybrook Meadows Trail</td>\n",
       "      <td>Olympic National Park</td>\n",
       "      <td>Brinnon</td>\n",
       "      <td>Washington</td>\n",
       "      <td>United States</td>\n",
       "      <td>{'lat': 47.72974, 'lng': -123.14179}</td>\n",
       "      <td>3.0804</td>\n",
       "      <td>26393.176</td>\n",
       "      <td>2102.8152</td>\n",
       "      <td>7</td>\n",
       "      <td>out and back</td>\n",
       "      <td>2.0</td>\n",
       "      <td>5.0</td>\n",
       "      <td>1</td>\n",
       "      <td>['dogs-no', 'views', 'wild-flowers', 'wildlife']</td>\n",
       "      <td>['backpacking', 'birding', 'camping', 'hiking'...</td>\n",
       "      <td>i</td>\n",
       "    </tr>\n",
       "    <tr>\n",
       "      <th>224</th>\n",
       "      <td>10027503</td>\n",
       "      <td>Clouds Rest Trail via Tenaya Lake</td>\n",
       "      <td>Yosemite National Park</td>\n",
       "      <td>Yosemite Valley</td>\n",
       "      <td>California</td>\n",
       "      <td>United States</td>\n",
       "      <td>{'lat': 37.82585, 'lng': -119.47046}</td>\n",
       "      <td>38.5795</td>\n",
       "      <td>19794.882</td>\n",
       "      <td>948.8424</td>\n",
       "      <td>5</td>\n",
       "      <td>out and back</td>\n",
       "      <td>3.0</td>\n",
       "      <td>5.0</td>\n",
       "      <td>685</td>\n",
       "      <td>['dogs-no', 'forest', 'lake', 'views', 'wild-f...</td>\n",
       "      <td>['backpacking', 'birding', 'camping', 'hiking'...</td>\n",
       "      <td>i</td>\n",
       "    </tr>\n",
       "  </tbody>\n",
       "</table>\n",
       "</div>"
      ],
      "text/plain": [
       "      trail_id                               name  \\\n",
       "1698  10008848                 Baxter Creek Trail   \n",
       "2919  10032315           Sunnybrook Meadows Trail   \n",
       "224   10027503  Clouds Rest Trail via Tenaya Lake   \n",
       "\n",
       "                                area_name        city_name      state_name  \\\n",
       "1698  Great Smoky Mountains National Park      Waynesville  North Carolina   \n",
       "2919                Olympic National Park          Brinnon      Washington   \n",
       "224                Yosemite National Park  Yosemite Valley      California   \n",
       "\n",
       "       country_name                               _geoloc  popularity  \\\n",
       "1698  United States   {'lat': 35.75111, 'lng': -83.10966}      4.9204   \n",
       "2919  United States  {'lat': 47.72974, 'lng': -123.14179}      3.0804   \n",
       "224   United States  {'lat': 37.82585, 'lng': -119.47046}     38.5795   \n",
       "\n",
       "         length  elevation_gain  difficulty_rating      route_type  \\\n",
       "1698  25266.638       1522.7808                  5  point to point   \n",
       "2919  26393.176       2102.8152                  7    out and back   \n",
       "224   19794.882        948.8424                  5    out and back   \n",
       "\n",
       "      visitor_usage  avg_rating  num_reviews  \\\n",
       "1698            2.0         4.5            7   \n",
       "2919            2.0         5.0            1   \n",
       "224             3.0         5.0          685   \n",
       "\n",
       "                                               features  \\\n",
       "1698     ['dogs-no', 'forest', 'views', 'wild-flowers']   \n",
       "2919   ['dogs-no', 'views', 'wild-flowers', 'wildlife']   \n",
       "224   ['dogs-no', 'forest', 'lake', 'views', 'wild-f...   \n",
       "\n",
       "                                             activities units  \n",
       "1698              ['birding', 'hiking', 'nature-trips']     i  \n",
       "2919  ['backpacking', 'birding', 'camping', 'hiking'...     i  \n",
       "224   ['backpacking', 'birding', 'camping', 'hiking'...     i  "
      ]
     },
     "execution_count": 50,
     "metadata": {},
     "output_type": "execute_result"
    }
   ],
   "source": [
    "df_out = df_drop_str(df_in, 'name', 'closed')\n",
    "df_out"
   ]
  },
  {
   "cell_type": "code",
   "execution_count": 51,
   "id": "350c5562",
   "metadata": {},
   "outputs": [
    {
     "data": {
      "text/plain": [
       "array([[10008848, 'Baxter Creek Trail',\n",
       "        'Great Smoky Mountains National Park', 'Waynesville',\n",
       "        'North Carolina', 'United States',\n",
       "        \"{'lat': 35.75111, 'lng': -83.10966}\", 4.9204, 25266.638,\n",
       "        1522.7808, 5, 'point to point', 2.0, 4.5, 7,\n",
       "        \"['dogs-no', 'forest', 'views', 'wild-flowers']\",\n",
       "        \"['birding', 'hiking', 'nature-trips']\", 'i'],\n",
       "       [10032315, 'Sunnybrook Meadows Trail', 'Olympic National Park',\n",
       "        'Brinnon', 'Washington', 'United States',\n",
       "        \"{'lat': 47.72974, 'lng': -123.14179}\", 3.0804, 26393.176,\n",
       "        2102.8152, 7, 'out and back', 2.0, 5.0, 1,\n",
       "        \"['dogs-no', 'views', 'wild-flowers', 'wildlife']\",\n",
       "        \"['backpacking', 'birding', 'camping', 'hiking', 'nature-trips']\",\n",
       "        'i'],\n",
       "       [10027503, 'Clouds Rest Trail via Tenaya Lake',\n",
       "        'Yosemite National Park', 'Yosemite Valley', 'California',\n",
       "        'United States', \"{'lat': 37.82585, 'lng': -119.47046}\", 38.5795,\n",
       "        19794.882, 948.8424, 5, 'out and back', 3.0, 5.0, 685,\n",
       "        \"['dogs-no', 'forest', 'lake', 'views', 'wild-flowers', 'wildlife']\",\n",
       "        \"['backpacking', 'birding', 'camping', 'hiking', 'nature-trips', 'trail-running', 'horseback-riding']\",\n",
       "        'i']], dtype=object)"
      ]
     },
     "execution_count": 51,
     "metadata": {},
     "output_type": "execute_result"
    }
   ],
   "source": [
    "df_out.values"
   ]
  },
  {
   "cell_type": "code",
   "execution_count": 52,
   "id": "56fcfae1",
   "metadata": {},
   "outputs": [
    {
     "data": {
      "text/plain": [
       "Int64Index([1698, 2919, 224], dtype='int64')"
      ]
     },
     "execution_count": 52,
     "metadata": {},
     "output_type": "execute_result"
    }
   ],
   "source": [
    "df_out.index"
   ]
  },
  {
   "cell_type": "code",
   "execution_count": 53,
   "id": "77a8305f",
   "metadata": {},
   "outputs": [
    {
     "data": {
      "text/plain": [
       "Index(['trail_id', 'name', 'area_name', 'city_name', 'state_name',\n",
       "       'country_name', '_geoloc', 'popularity', 'length', 'elevation_gain',\n",
       "       'difficulty_rating', 'route_type', 'visitor_usage', 'avg_rating',\n",
       "       'num_reviews', 'features', 'activities', 'units'],\n",
       "      dtype='object')"
      ]
     },
     "execution_count": 53,
     "metadata": {},
     "output_type": "execute_result"
    }
   ],
   "source": [
    "df_out.columns"
   ]
  },
  {
   "cell_type": "code",
   "execution_count": 54,
   "id": "6ca6789c",
   "metadata": {},
   "outputs": [],
   "source": [
    "df_out.columns.name"
   ]
  },
  {
   "cell_type": "code",
   "execution_count": 55,
   "id": "62750c44",
   "metadata": {},
   "outputs": [],
   "source": [
    "df_out.index.name"
   ]
  },
  {
   "cell_type": "code",
   "execution_count": 56,
   "id": "9a455cd8",
   "metadata": {},
   "outputs": [],
   "source": [
    "df_true = pd.DataFrame(\n",
    "    [[10008848, 'Baxter Creek Trail',\n",
    "        'Great Smoky Mountains National Park', 'Waynesville',\n",
    "        'North Carolina', 'United States',\n",
    "        \"{'lat': 35.75111, 'lng': -83.10966}\", 4.9204, 25266.638,\n",
    "        1522.7808, 5, 'point to point', 2.0, 4.5, 7,\n",
    "        \"['dogs-no', 'forest', 'views', 'wild-flowers']\",\n",
    "        \"['birding', 'hiking', 'nature-trips']\", 'i'],\n",
    "       [10032315, 'Sunnybrook Meadows Trail', 'Olympic National Park',\n",
    "        'Brinnon', 'Washington', 'United States',\n",
    "        \"{'lat': 47.72974, 'lng': -123.14179}\", 3.0804, 26393.176,\n",
    "        2102.8152, 7, 'out and back', 2.0, 5.0, 1,\n",
    "        \"['dogs-no', 'views', 'wild-flowers', 'wildlife']\",\n",
    "        \"['backpacking', 'birding', 'camping', 'hiking', 'nature-trips']\",\n",
    "        'i'],\n",
    "       [10027503, 'Clouds Rest Trail via Tenaya Lake',\n",
    "        'Yosemite National Park', 'Yosemite Valley', 'California',\n",
    "        'United States', \"{'lat': 37.82585, 'lng': -119.47046}\", 38.5795,\n",
    "        19794.882, 948.8424, 5, 'out and back', 3.0, 5.0, 685,\n",
    "        \"['dogs-no', 'forest', 'lake', 'views', 'wild-flowers', 'wildlife']\",\n",
    "        \"['backpacking', 'birding', 'camping', 'hiking', 'nature-trips', 'trail-running', 'horseback-riding']\",\n",
    "        'i']],\n",
    "index=[1698, 2919, 224],\n",
    "columns=['trail_id', 'name', 'area_name', 'city_name', 'state_name',\n",
    "       'country_name', '_geoloc', 'popularity', 'length', 'elevation_gain',\n",
    "       'difficulty_rating', 'route_type', 'visitor_usage', 'avg_rating',\n",
    "       'num_reviews', 'features', 'activities', 'units'])"
   ]
  },
  {
   "cell_type": "code",
   "execution_count": 57,
   "id": "9b7fa3b1",
   "metadata": {},
   "outputs": [
    {
     "data": {
      "text/plain": [
       "True"
      ]
     },
     "execution_count": 57,
     "metadata": {},
     "output_type": "execute_result"
    }
   ],
   "source": [
    "df_true.equals(df_out)"
   ]
  },
  {
   "cell_type": "code",
   "execution_count": 58,
   "id": "f67d9caf",
   "metadata": {},
   "outputs": [],
   "source": [
    "def test_df_drop_str():\n",
    "    \n",
    "    # Define input dataframe\n",
    "    df_in_values = [[10008848, 'Baxter Creek Trail',\n",
    "        'Great Smoky Mountains National Park', 'Waynesville',\n",
    "        'North Carolina', 'United States',\n",
    "        \"{'lat': 35.75111, 'lng': -83.10966}\", 4.9204, 25266.638,\n",
    "        1522.7808, 5, 'point to point', 2.0, 4.5, 7,\n",
    "        \"['dogs-no', 'forest', 'views', 'wild-flowers']\",\n",
    "        \"['birding', 'hiking', 'nature-trips']\", 'i'],\n",
    "       [10032315, 'Sunnybrook Meadows Trail', 'Olympic National Park',\n",
    "        'Brinnon', 'Washington', 'United States',\n",
    "        \"{'lat': 47.72974, 'lng': -123.14179}\", 3.0804, 26393.176,\n",
    "        2102.8152, 7, 'out and back', 2.0, 5.0, 1,\n",
    "        \"['dogs-no', 'views', 'wild-flowers', 'wildlife']\",\n",
    "        \"['backpacking', 'birding', 'camping', 'hiking', 'nature-trips']\",\n",
    "        'i'],\n",
    "       [10027503, 'Clouds Rest Trail via Tenaya Lake',\n",
    "        'Yosemite National Park', 'Yosemite Valley', 'California',\n",
    "        'United States', \"{'lat': 37.82585, 'lng': -119.47046}\", 38.5795,\n",
    "        19794.882, 948.8424, 5, 'out and back', 3.0, 5.0, 685,\n",
    "        \"['dogs-no', 'forest', 'lake', 'views', 'wild-flowers', 'wildlife']\",\n",
    "        \"['backpacking', 'birding', 'camping', 'hiking', 'nature-trips', 'trail-running', 'horseback-riding']\",\n",
    "        'i']]\n",
    "    df_in_index = [1698, 2919, 224]\n",
    "    df_in_columns = ['trail_id', 'name', 'area_name', 'city_name', 'state_name',\n",
    "           'country_name', '_geoloc', 'popularity', 'length', 'elevation_gain',\n",
    "           'difficulty_rating', 'route_type', 'visitor_usage', 'avg_rating',\n",
    "           'num_reviews', 'features', 'activities', 'units']\n",
    "    df_in = pd.DataFrame(df_in_values, index=df_in_index, columns=df_in_columns)\n",
    "    \n",
    "    # Define expected output\n",
    "    df_true = pd.DataFrame(\n",
    "        [[10008848, 'Baxter Creek Trail',\n",
    "            'Great Smoky Mountains National Park', 'Waynesville',\n",
    "            'North Carolina', 'United States',\n",
    "            \"{'lat': 35.75111, 'lng': -83.10966}\", 4.9204, 25266.638,\n",
    "            1522.7808, 5, 'point to point', 2.0, 4.5, 7,\n",
    "            \"['dogs-no', 'forest', 'views', 'wild-flowers']\",\n",
    "            \"['birding', 'hiking', 'nature-trips']\", 'i'],\n",
    "           [10032315, 'Sunnybrook Meadows Trail', 'Olympic National Park',\n",
    "            'Brinnon', 'Washington', 'United States',\n",
    "            \"{'lat': 47.72974, 'lng': -123.14179}\", 3.0804, 26393.176,\n",
    "            2102.8152, 7, 'out and back', 2.0, 5.0, 1,\n",
    "            \"['dogs-no', 'views', 'wild-flowers', 'wildlife']\",\n",
    "            \"['backpacking', 'birding', 'camping', 'hiking', 'nature-trips']\",\n",
    "            'i'],\n",
    "           [10027503, 'Clouds Rest Trail via Tenaya Lake',\n",
    "            'Yosemite National Park', 'Yosemite Valley', 'California',\n",
    "            'United States', \"{'lat': 37.82585, 'lng': -119.47046}\", 38.5795,\n",
    "            19794.882, 948.8424, 5, 'out and back', 3.0, 5.0, 685,\n",
    "            \"['dogs-no', 'forest', 'lake', 'views', 'wild-flowers', 'wildlife']\",\n",
    "            \"['backpacking', 'birding', 'camping', 'hiking', 'nature-trips', 'trail-running', 'horseback-riding']\",\n",
    "            'i']],\n",
    "    index=[1698, 2919, 224],\n",
    "    columns=['trail_id', 'name', 'area_name', 'city_name', 'state_name',\n",
    "           'country_name', '_geoloc', 'popularity', 'length', 'elevation_gain',\n",
    "           'difficulty_rating', 'route_type', 'visitor_usage', 'avg_rating',\n",
    "           'num_reviews', 'features', 'activities', 'units'])\n",
    "    \n",
    "    # Create test output\n",
    "    df_test = df_drop_str(df_in, 'name', 'closed')\n",
    "    \n",
    "    assert df_test.equals(df_true)"
   ]
  },
  {
   "cell_type": "code",
   "execution_count": 59,
   "id": "4a70dfd4",
   "metadata": {},
   "outputs": [],
   "source": [
    "test_df_drop_str()"
   ]
  },
  {
   "cell_type": "markdown",
   "id": "0b78e779",
   "metadata": {},
   "source": [
    "Unhappy path: feature doesn't exsist"
   ]
  },
  {
   "cell_type": "code",
   "execution_count": 60,
   "id": "ea7c915c",
   "metadata": {},
   "outputs": [],
   "source": [
    "def test_df_drop_str_key_error():\n",
    "    # Define input dataframe\n",
    "    df_in_values = [[10008848, 'Baxter Creek Trail',\n",
    "        'Great Smoky Mountains National Park', 'Waynesville',\n",
    "        'North Carolina', 'United States',\n",
    "        \"{'lat': 35.75111, 'lng': -83.10966}\", 4.9204, 25266.638,\n",
    "        1522.7808, 5, 'point to point', 2.0, 4.5, 7,\n",
    "        \"['dogs-no', 'forest', 'views', 'wild-flowers']\",\n",
    "        \"['birding', 'hiking', 'nature-trips']\", 'i'],\n",
    "       [10032315, 'Sunnybrook Meadows Trail', 'Olympic National Park',\n",
    "        'Brinnon', 'Washington', 'United States',\n",
    "        \"{'lat': 47.72974, 'lng': -123.14179}\", 3.0804, 26393.176,\n",
    "        2102.8152, 7, 'out and back', 2.0, 5.0, 1,\n",
    "        \"['dogs-no', 'views', 'wild-flowers', 'wildlife']\",\n",
    "        \"['backpacking', 'birding', 'camping', 'hiking', 'nature-trips']\",\n",
    "        'i'],\n",
    "       [10027503, 'Clouds Rest Trail via Tenaya Lake',\n",
    "        'Yosemite National Park', 'Yosemite Valley', 'California',\n",
    "        'United States', \"{'lat': 37.82585, 'lng': -119.47046}\", 38.5795,\n",
    "        19794.882, 948.8424, 5, 'out and back', 3.0, 5.0, 685,\n",
    "        \"['dogs-no', 'forest', 'lake', 'views', 'wild-flowers', 'wildlife']\",\n",
    "        \"['backpacking', 'birding', 'camping', 'hiking', 'nature-trips', 'trail-running', 'horseback-riding']\",\n",
    "        'i']]\n",
    "    df_in_index = [1698, 2919, 224]\n",
    "    df_in_columns = ['trail_id', 'name', 'area_name', 'city_name', 'state_name',\n",
    "           'country_name', '_geoloc', 'popularity', 'length', 'elevation_gain',\n",
    "           'difficulty_rating', 'route_type', 'visitor_usage', 'avg_rating',\n",
    "           'num_reviews', 'features', 'activities', 'units']\n",
    "    df_in = pd.DataFrame(df_in_values, index=df_in_index, columns=df_in_columns)\n",
    "    \n",
    "    # Define expected output\n",
    "    with pytest.raises(KeyError):\n",
    "        df_drop_str(df_in, 'error', 'closed')"
   ]
  },
  {
   "cell_type": "code",
   "execution_count": 61,
   "id": "5537f2c0",
   "metadata": {},
   "outputs": [],
   "source": [
    "test_df_drop_str_key_error()"
   ]
  },
  {
   "cell_type": "markdown",
   "id": "097132d8",
   "metadata": {},
   "source": [
    "Unhappy path: not a dataframe"
   ]
  },
  {
   "cell_type": "code",
   "execution_count": 62,
   "id": "8e6e601d",
   "metadata": {},
   "outputs": [],
   "source": [
    "def test_df_drop_str_non_df():\n",
    "    df_in = 'I am not a dataframe'\n",
    "    \n",
    "    with pytest.raises(TypeError):\n",
    "        df_drop_str(df_in, 'name', 'closed')"
   ]
  },
  {
   "cell_type": "code",
   "execution_count": 63,
   "id": "178bf940",
   "metadata": {},
   "outputs": [],
   "source": [
    "test_df_drop_str_non_df()"
   ]
  },
  {
   "cell_type": "code",
   "execution_count": null,
   "id": "093f0996",
   "metadata": {},
   "outputs": [],
   "source": []
  }
 ],
 "metadata": {
  "kernelspec": {
   "display_name": "Python 3",
   "language": "python",
   "name": "python3"
  },
  "language_info": {
   "codemirror_mode": {
    "name": "ipython",
    "version": 3
   },
   "file_extension": ".py",
   "mimetype": "text/x-python",
   "name": "python",
   "nbconvert_exporter": "python",
   "pygments_lexer": "ipython3",
   "version": "3.7.7"
  }
 },
 "nbformat": 4,
 "nbformat_minor": 5
}
